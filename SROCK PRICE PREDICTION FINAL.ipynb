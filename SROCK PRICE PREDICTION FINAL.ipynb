{
 "cells": [
  {
   "attachments": {},
   "cell_type": "markdown",
   "metadata": {},
   "source": [
    "# Import Libraries"
   ]
  },
  {
   "cell_type": "code",
   "execution_count": 1,
   "metadata": {},
   "outputs": [],
   "source": [
    "import pandas as pd\n",
    "import numpy as np\n",
    "from pandas import read_csv\n",
    "import seaborn as sb\n",
    "from sklearn.model_selection import train_test_split\n",
    "from sklearn.preprocessing import StandardScaler\n",
    "from sklearn.linear_model import LogisticRegression\n",
    "from sklearn.svm import SVC\n",
    "from xgboost import XGBClassifier\n",
    "from sklearn import metrics\n",
    "from sklearn.preprocessing import MinMaxScaler"
   ]
  },
  {
   "attachments": {},
   "cell_type": "markdown",
   "metadata": {},
   "source": [
    "# Import Dataset"
   ]
  },
  {
   "attachments": {},
   "cell_type": "markdown",
   "metadata": {},
   "source": [
    "##### Tesla Stock Price data from Jan 1,2010 to Dec 31st,2017 except weekends and holidays"
   ]
  },
  {
   "cell_type": "code",
   "execution_count": 2,
   "metadata": {},
   "outputs": [
    {
     "name": "stdout",
     "output_type": "stream",
     "text": [
      "D:\\s6\\software engineering\\finakl\n"
     ]
    }
   ],
   "source": [
    "cd D:\\s6\\software engineering\\finakl\n"
   ]
  },
  {
   "cell_type": "code",
   "execution_count": 3,
   "metadata": {},
   "outputs": [],
   "source": [
    "import pandas as pd\n",
    "import numpy as np\n",
    "import matplotlib.pyplot as plt\n",
    "from pandas import read_csv\n",
    "df=pd.read_csv(\"NSE-Tata-Global-Beverages-Limited.csv\")\n"
   ]
  },
  {
   "attachments": {},
   "cell_type": "markdown",
   "metadata": {},
   "source": [
    "# Understanding the data\n"
   ]
  },
  {
   "cell_type": "code",
   "execution_count": 4,
   "metadata": {},
   "outputs": [
    {
     "data": {
      "text/html": [
       "<div>\n",
       "<style scoped>\n",
       "    .dataframe tbody tr th:only-of-type {\n",
       "        vertical-align: middle;\n",
       "    }\n",
       "\n",
       "    .dataframe tbody tr th {\n",
       "        vertical-align: top;\n",
       "    }\n",
       "\n",
       "    .dataframe thead th {\n",
       "        text-align: right;\n",
       "    }\n",
       "</style>\n",
       "<table border=\"1\" class=\"dataframe\">\n",
       "  <thead>\n",
       "    <tr style=\"text-align: right;\">\n",
       "      <th></th>\n",
       "      <th>Date</th>\n",
       "      <th>Open</th>\n",
       "      <th>High</th>\n",
       "      <th>Low</th>\n",
       "      <th>Last</th>\n",
       "      <th>Close</th>\n",
       "      <th>Total Trade Quantity</th>\n",
       "      <th>Turnover (Lacs)</th>\n",
       "    </tr>\n",
       "  </thead>\n",
       "  <tbody>\n",
       "    <tr>\n",
       "      <th>0</th>\n",
       "      <td>2018-10-08</td>\n",
       "      <td>208.00</td>\n",
       "      <td>222.25</td>\n",
       "      <td>206.85</td>\n",
       "      <td>216.00</td>\n",
       "      <td>215.15</td>\n",
       "      <td>4642146.0</td>\n",
       "      <td>10062.83</td>\n",
       "    </tr>\n",
       "    <tr>\n",
       "      <th>1</th>\n",
       "      <td>2018-10-05</td>\n",
       "      <td>217.00</td>\n",
       "      <td>218.60</td>\n",
       "      <td>205.90</td>\n",
       "      <td>210.25</td>\n",
       "      <td>209.20</td>\n",
       "      <td>3519515.0</td>\n",
       "      <td>7407.06</td>\n",
       "    </tr>\n",
       "    <tr>\n",
       "      <th>2</th>\n",
       "      <td>2018-10-04</td>\n",
       "      <td>223.50</td>\n",
       "      <td>227.80</td>\n",
       "      <td>216.15</td>\n",
       "      <td>217.25</td>\n",
       "      <td>218.20</td>\n",
       "      <td>1728786.0</td>\n",
       "      <td>3815.79</td>\n",
       "    </tr>\n",
       "    <tr>\n",
       "      <th>3</th>\n",
       "      <td>2018-10-03</td>\n",
       "      <td>230.00</td>\n",
       "      <td>237.50</td>\n",
       "      <td>225.75</td>\n",
       "      <td>226.45</td>\n",
       "      <td>227.60</td>\n",
       "      <td>1708590.0</td>\n",
       "      <td>3960.27</td>\n",
       "    </tr>\n",
       "    <tr>\n",
       "      <th>4</th>\n",
       "      <td>2018-10-01</td>\n",
       "      <td>234.55</td>\n",
       "      <td>234.60</td>\n",
       "      <td>221.05</td>\n",
       "      <td>230.30</td>\n",
       "      <td>230.90</td>\n",
       "      <td>1534749.0</td>\n",
       "      <td>3486.05</td>\n",
       "    </tr>\n",
       "    <tr>\n",
       "      <th>5</th>\n",
       "      <td>2018-09-28</td>\n",
       "      <td>234.05</td>\n",
       "      <td>235.95</td>\n",
       "      <td>230.20</td>\n",
       "      <td>233.50</td>\n",
       "      <td>233.75</td>\n",
       "      <td>3069914.0</td>\n",
       "      <td>7162.35</td>\n",
       "    </tr>\n",
       "    <tr>\n",
       "      <th>6</th>\n",
       "      <td>2018-09-27</td>\n",
       "      <td>234.55</td>\n",
       "      <td>236.80</td>\n",
       "      <td>231.10</td>\n",
       "      <td>233.80</td>\n",
       "      <td>233.25</td>\n",
       "      <td>5082859.0</td>\n",
       "      <td>11859.95</td>\n",
       "    </tr>\n",
       "    <tr>\n",
       "      <th>7</th>\n",
       "      <td>2018-09-26</td>\n",
       "      <td>240.00</td>\n",
       "      <td>240.00</td>\n",
       "      <td>232.50</td>\n",
       "      <td>235.00</td>\n",
       "      <td>234.25</td>\n",
       "      <td>2240909.0</td>\n",
       "      <td>5248.60</td>\n",
       "    </tr>\n",
       "    <tr>\n",
       "      <th>8</th>\n",
       "      <td>2018-09-25</td>\n",
       "      <td>233.30</td>\n",
       "      <td>236.75</td>\n",
       "      <td>232.00</td>\n",
       "      <td>236.25</td>\n",
       "      <td>236.10</td>\n",
       "      <td>2349368.0</td>\n",
       "      <td>5503.90</td>\n",
       "    </tr>\n",
       "    <tr>\n",
       "      <th>9</th>\n",
       "      <td>2018-09-24</td>\n",
       "      <td>233.55</td>\n",
       "      <td>239.20</td>\n",
       "      <td>230.75</td>\n",
       "      <td>234.00</td>\n",
       "      <td>233.30</td>\n",
       "      <td>3423509.0</td>\n",
       "      <td>7999.55</td>\n",
       "    </tr>\n",
       "  </tbody>\n",
       "</table>\n",
       "</div>"
      ],
      "text/plain": [
       "         Date    Open    High     Low    Last   Close  Total Trade Quantity  \\\n",
       "0  2018-10-08  208.00  222.25  206.85  216.00  215.15             4642146.0   \n",
       "1  2018-10-05  217.00  218.60  205.90  210.25  209.20             3519515.0   \n",
       "2  2018-10-04  223.50  227.80  216.15  217.25  218.20             1728786.0   \n",
       "3  2018-10-03  230.00  237.50  225.75  226.45  227.60             1708590.0   \n",
       "4  2018-10-01  234.55  234.60  221.05  230.30  230.90             1534749.0   \n",
       "5  2018-09-28  234.05  235.95  230.20  233.50  233.75             3069914.0   \n",
       "6  2018-09-27  234.55  236.80  231.10  233.80  233.25             5082859.0   \n",
       "7  2018-09-26  240.00  240.00  232.50  235.00  234.25             2240909.0   \n",
       "8  2018-09-25  233.30  236.75  232.00  236.25  236.10             2349368.0   \n",
       "9  2018-09-24  233.55  239.20  230.75  234.00  233.30             3423509.0   \n",
       "\n",
       "   Turnover (Lacs)  \n",
       "0         10062.83  \n",
       "1          7407.06  \n",
       "2          3815.79  \n",
       "3          3960.27  \n",
       "4          3486.05  \n",
       "5          7162.35  \n",
       "6         11859.95  \n",
       "7          5248.60  \n",
       "8          5503.90  \n",
       "9          7999.55  "
      ]
     },
     "execution_count": 4,
     "metadata": {},
     "output_type": "execute_result"
    }
   ],
   "source": [
    "df.head(10)\n"
   ]
  },
  {
   "cell_type": "code",
   "execution_count": 5,
   "metadata": {},
   "outputs": [
    {
     "data": {
      "text/plain": [
       "<bound method DataFrame.info of             Date    Open    High     Low    Last   Close  \\\n",
       "0     2018-10-08  208.00  222.25  206.85  216.00  215.15   \n",
       "1     2018-10-05  217.00  218.60  205.90  210.25  209.20   \n",
       "2     2018-10-04  223.50  227.80  216.15  217.25  218.20   \n",
       "3     2018-10-03  230.00  237.50  225.75  226.45  227.60   \n",
       "4     2018-10-01  234.55  234.60  221.05  230.30  230.90   \n",
       "...          ...     ...     ...     ...     ...     ...   \n",
       "1230  2013-10-14  160.85  161.45  157.70  159.30  159.45   \n",
       "1231  2013-10-11  161.15  163.45  159.00  159.80  160.05   \n",
       "1232  2013-10-10  156.00  160.80  155.85  160.30  160.15   \n",
       "1233  2013-10-09  155.70  158.20  154.15  155.30  155.55   \n",
       "1234  2013-10-08  157.00  157.80  155.20  155.80  155.80   \n",
       "\n",
       "      Total Trade Quantity  Turnover (Lacs)  \n",
       "0                4642146.0         10062.83  \n",
       "1                3519515.0          7407.06  \n",
       "2                1728786.0          3815.79  \n",
       "3                1708590.0          3960.27  \n",
       "4                1534749.0          3486.05  \n",
       "...                    ...              ...  \n",
       "1230             1281419.0          2039.09  \n",
       "1231             1880046.0          3030.76  \n",
       "1232             3124853.0          4978.80  \n",
       "1233             2049580.0          3204.49  \n",
       "1234             1720413.0          2688.94  \n",
       "\n",
       "[1235 rows x 8 columns]>"
      ]
     },
     "execution_count": 5,
     "metadata": {},
     "output_type": "execute_result"
    }
   ],
   "source": [
    "df.info"
   ]
  },
  {
   "cell_type": "code",
   "execution_count": 6,
   "metadata": {},
   "outputs": [
    {
     "data": {
      "text/plain": [
       "Date                    0\n",
       "Open                    0\n",
       "High                    0\n",
       "Low                     0\n",
       "Last                    0\n",
       "Close                   0\n",
       "Total Trade Quantity    0\n",
       "Turnover (Lacs)         0\n",
       "dtype: int64"
      ]
     },
     "execution_count": 6,
     "metadata": {},
     "output_type": "execute_result"
    }
   ],
   "source": [
    "df.isnull().sum() "
   ]
  },
  {
   "cell_type": "code",
   "execution_count": 7,
   "metadata": {},
   "outputs": [
    {
     "name": "stderr",
     "output_type": "stream",
     "text": [
      "C:\\Users\\laxmi\\AppData\\Local\\Temp\\ipykernel_10972\\3471529324.py:1: FutureWarning: The default value of numeric_only in DataFrame.corr is deprecated. In a future version, it will default to False. Select only valid columns or specify the value of numeric_only to silence this warning.\n",
      "  correlation=df.corr()\n"
     ]
    },
    {
     "data": {
      "text/html": [
       "<div>\n",
       "<style scoped>\n",
       "    .dataframe tbody tr th:only-of-type {\n",
       "        vertical-align: middle;\n",
       "    }\n",
       "\n",
       "    .dataframe tbody tr th {\n",
       "        vertical-align: top;\n",
       "    }\n",
       "\n",
       "    .dataframe thead th {\n",
       "        text-align: right;\n",
       "    }\n",
       "</style>\n",
       "<table border=\"1\" class=\"dataframe\">\n",
       "  <thead>\n",
       "    <tr style=\"text-align: right;\">\n",
       "      <th></th>\n",
       "      <th>Open</th>\n",
       "      <th>High</th>\n",
       "      <th>Low</th>\n",
       "      <th>Last</th>\n",
       "      <th>Close</th>\n",
       "      <th>Total Trade Quantity</th>\n",
       "      <th>Turnover (Lacs)</th>\n",
       "    </tr>\n",
       "  </thead>\n",
       "  <tbody>\n",
       "    <tr>\n",
       "      <th>Open</th>\n",
       "      <td>1.000000</td>\n",
       "      <td>0.998956</td>\n",
       "      <td>0.998776</td>\n",
       "      <td>0.997662</td>\n",
       "      <td>0.997704</td>\n",
       "      <td>0.367503</td>\n",
       "      <td>0.587026</td>\n",
       "    </tr>\n",
       "    <tr>\n",
       "      <th>High</th>\n",
       "      <td>0.998956</td>\n",
       "      <td>1.000000</td>\n",
       "      <td>0.998728</td>\n",
       "      <td>0.999130</td>\n",
       "      <td>0.999159</td>\n",
       "      <td>0.388798</td>\n",
       "      <td>0.605907</td>\n",
       "    </tr>\n",
       "    <tr>\n",
       "      <th>Low</th>\n",
       "      <td>0.998776</td>\n",
       "      <td>0.998728</td>\n",
       "      <td>1.000000</td>\n",
       "      <td>0.999008</td>\n",
       "      <td>0.999065</td>\n",
       "      <td>0.361695</td>\n",
       "      <td>0.582446</td>\n",
       "    </tr>\n",
       "    <tr>\n",
       "      <th>Last</th>\n",
       "      <td>0.997662</td>\n",
       "      <td>0.999130</td>\n",
       "      <td>0.999008</td>\n",
       "      <td>1.000000</td>\n",
       "      <td>0.999963</td>\n",
       "      <td>0.381269</td>\n",
       "      <td>0.599575</td>\n",
       "    </tr>\n",
       "    <tr>\n",
       "      <th>Close</th>\n",
       "      <td>0.997704</td>\n",
       "      <td>0.999159</td>\n",
       "      <td>0.999065</td>\n",
       "      <td>0.999963</td>\n",
       "      <td>1.000000</td>\n",
       "      <td>0.380801</td>\n",
       "      <td>0.599155</td>\n",
       "    </tr>\n",
       "    <tr>\n",
       "      <th>Total Trade Quantity</th>\n",
       "      <td>0.367503</td>\n",
       "      <td>0.388798</td>\n",
       "      <td>0.361695</td>\n",
       "      <td>0.381269</td>\n",
       "      <td>0.380801</td>\n",
       "      <td>1.000000</td>\n",
       "      <td>0.941976</td>\n",
       "    </tr>\n",
       "    <tr>\n",
       "      <th>Turnover (Lacs)</th>\n",
       "      <td>0.587026</td>\n",
       "      <td>0.605907</td>\n",
       "      <td>0.582446</td>\n",
       "      <td>0.599575</td>\n",
       "      <td>0.599155</td>\n",
       "      <td>0.941976</td>\n",
       "      <td>1.000000</td>\n",
       "    </tr>\n",
       "  </tbody>\n",
       "</table>\n",
       "</div>"
      ],
      "text/plain": [
       "                          Open      High       Low      Last     Close  \\\n",
       "Open                  1.000000  0.998956  0.998776  0.997662  0.997704   \n",
       "High                  0.998956  1.000000  0.998728  0.999130  0.999159   \n",
       "Low                   0.998776  0.998728  1.000000  0.999008  0.999065   \n",
       "Last                  0.997662  0.999130  0.999008  1.000000  0.999963   \n",
       "Close                 0.997704  0.999159  0.999065  0.999963  1.000000   \n",
       "Total Trade Quantity  0.367503  0.388798  0.361695  0.381269  0.380801   \n",
       "Turnover (Lacs)       0.587026  0.605907  0.582446  0.599575  0.599155   \n",
       "\n",
       "                      Total Trade Quantity  Turnover (Lacs)  \n",
       "Open                              0.367503         0.587026  \n",
       "High                              0.388798         0.605907  \n",
       "Low                               0.361695         0.582446  \n",
       "Last                              0.381269         0.599575  \n",
       "Close                             0.380801         0.599155  \n",
       "Total Trade Quantity              1.000000         0.941976  \n",
       "Turnover (Lacs)                   0.941976         1.000000  "
      ]
     },
     "execution_count": 7,
     "metadata": {},
     "output_type": "execute_result"
    }
   ],
   "source": [
    "correlation=df.corr()\n",
    "correlation"
   ]
  },
  {
   "attachments": {},
   "cell_type": "markdown",
   "metadata": {},
   "source": [
    "# Dimensions of dataset"
   ]
  },
  {
   "cell_type": "code",
   "execution_count": 8,
   "metadata": {},
   "outputs": [
    {
     "data": {
      "text/plain": [
       "(1235, 8)"
      ]
     },
     "execution_count": 8,
     "metadata": {},
     "output_type": "execute_result"
    }
   ],
   "source": [
    "df.shape\n"
   ]
  },
  {
   "attachments": {},
   "cell_type": "markdown",
   "metadata": {},
   "source": [
    "# Statistical summary"
   ]
  },
  {
   "cell_type": "code",
   "execution_count": 9,
   "metadata": {},
   "outputs": [
    {
     "data": {
      "text/html": [
       "<div>\n",
       "<style scoped>\n",
       "    .dataframe tbody tr th:only-of-type {\n",
       "        vertical-align: middle;\n",
       "    }\n",
       "\n",
       "    .dataframe tbody tr th {\n",
       "        vertical-align: top;\n",
       "    }\n",
       "\n",
       "    .dataframe thead th {\n",
       "        text-align: right;\n",
       "    }\n",
       "</style>\n",
       "<table border=\"1\" class=\"dataframe\">\n",
       "  <thead>\n",
       "    <tr style=\"text-align: right;\">\n",
       "      <th></th>\n",
       "      <th>Open</th>\n",
       "      <th>High</th>\n",
       "      <th>Low</th>\n",
       "      <th>Last</th>\n",
       "      <th>Close</th>\n",
       "      <th>Total Trade Quantity</th>\n",
       "      <th>Turnover (Lacs)</th>\n",
       "    </tr>\n",
       "  </thead>\n",
       "  <tbody>\n",
       "    <tr>\n",
       "      <th>count</th>\n",
       "      <td>1235.000000</td>\n",
       "      <td>1235.000000</td>\n",
       "      <td>1235.000000</td>\n",
       "      <td>1235.000000</td>\n",
       "      <td>1235.000000</td>\n",
       "      <td>1.235000e+03</td>\n",
       "      <td>1235.000000</td>\n",
       "    </tr>\n",
       "    <tr>\n",
       "      <th>mean</th>\n",
       "      <td>168.954858</td>\n",
       "      <td>171.429069</td>\n",
       "      <td>166.402308</td>\n",
       "      <td>168.736356</td>\n",
       "      <td>168.731053</td>\n",
       "      <td>2.604151e+06</td>\n",
       "      <td>4843.166502</td>\n",
       "    </tr>\n",
       "    <tr>\n",
       "      <th>std</th>\n",
       "      <td>51.499145</td>\n",
       "      <td>52.436761</td>\n",
       "      <td>50.542919</td>\n",
       "      <td>51.587384</td>\n",
       "      <td>51.544928</td>\n",
       "      <td>2.277028e+06</td>\n",
       "      <td>5348.919832</td>\n",
       "    </tr>\n",
       "    <tr>\n",
       "      <th>min</th>\n",
       "      <td>103.000000</td>\n",
       "      <td>104.600000</td>\n",
       "      <td>100.000000</td>\n",
       "      <td>102.600000</td>\n",
       "      <td>102.650000</td>\n",
       "      <td>1.001800e+05</td>\n",
       "      <td>128.040000</td>\n",
       "    </tr>\n",
       "    <tr>\n",
       "      <th>25%</th>\n",
       "      <td>137.550000</td>\n",
       "      <td>138.925000</td>\n",
       "      <td>135.250000</td>\n",
       "      <td>137.175000</td>\n",
       "      <td>137.225000</td>\n",
       "      <td>1.284482e+06</td>\n",
       "      <td>1801.035000</td>\n",
       "    </tr>\n",
       "    <tr>\n",
       "      <th>50%</th>\n",
       "      <td>151.500000</td>\n",
       "      <td>153.250000</td>\n",
       "      <td>149.500000</td>\n",
       "      <td>151.200000</td>\n",
       "      <td>151.100000</td>\n",
       "      <td>1.964885e+06</td>\n",
       "      <td>3068.510000</td>\n",
       "    </tr>\n",
       "    <tr>\n",
       "      <th>75%</th>\n",
       "      <td>169.000000</td>\n",
       "      <td>172.325000</td>\n",
       "      <td>166.700000</td>\n",
       "      <td>169.100000</td>\n",
       "      <td>169.500000</td>\n",
       "      <td>3.095788e+06</td>\n",
       "      <td>5852.600000</td>\n",
       "    </tr>\n",
       "    <tr>\n",
       "      <th>max</th>\n",
       "      <td>327.700000</td>\n",
       "      <td>328.750000</td>\n",
       "      <td>321.650000</td>\n",
       "      <td>325.950000</td>\n",
       "      <td>325.750000</td>\n",
       "      <td>2.919102e+07</td>\n",
       "      <td>55755.080000</td>\n",
       "    </tr>\n",
       "  </tbody>\n",
       "</table>\n",
       "</div>"
      ],
      "text/plain": [
       "              Open         High          Low         Last        Close  \\\n",
       "count  1235.000000  1235.000000  1235.000000  1235.000000  1235.000000   \n",
       "mean    168.954858   171.429069   166.402308   168.736356   168.731053   \n",
       "std      51.499145    52.436761    50.542919    51.587384    51.544928   \n",
       "min     103.000000   104.600000   100.000000   102.600000   102.650000   \n",
       "25%     137.550000   138.925000   135.250000   137.175000   137.225000   \n",
       "50%     151.500000   153.250000   149.500000   151.200000   151.100000   \n",
       "75%     169.000000   172.325000   166.700000   169.100000   169.500000   \n",
       "max     327.700000   328.750000   321.650000   325.950000   325.750000   \n",
       "\n",
       "       Total Trade Quantity  Turnover (Lacs)  \n",
       "count          1.235000e+03      1235.000000  \n",
       "mean           2.604151e+06      4843.166502  \n",
       "std            2.277028e+06      5348.919832  \n",
       "min            1.001800e+05       128.040000  \n",
       "25%            1.284482e+06      1801.035000  \n",
       "50%            1.964885e+06      3068.510000  \n",
       "75%            3.095788e+06      5852.600000  \n",
       "max            2.919102e+07     55755.080000  "
      ]
     },
     "execution_count": 9,
     "metadata": {},
     "output_type": "execute_result"
    }
   ],
   "source": [
    "df.describe()\n"
   ]
  },
  {
   "cell_type": "code",
   "execution_count": 10,
   "metadata": {},
   "outputs": [
    {
     "name": "stdout",
     "output_type": "stream",
     "text": [
      "<class 'pandas.core.frame.DataFrame'>\n",
      "RangeIndex: 1235 entries, 0 to 1234\n",
      "Data columns (total 8 columns):\n",
      " #   Column                Non-Null Count  Dtype  \n",
      "---  ------                --------------  -----  \n",
      " 0   Date                  1235 non-null   object \n",
      " 1   Open                  1235 non-null   float64\n",
      " 2   High                  1235 non-null   float64\n",
      " 3   Low                   1235 non-null   float64\n",
      " 4   Last                  1235 non-null   float64\n",
      " 5   Close                 1235 non-null   float64\n",
      " 6   Total Trade Quantity  1235 non-null   float64\n",
      " 7   Turnover (Lacs)       1235 non-null   float64\n",
      "dtypes: float64(7), object(1)\n",
      "memory usage: 77.3+ KB\n"
     ]
    }
   ],
   "source": [
    "df.info()"
   ]
  },
  {
   "attachments": {},
   "cell_type": "markdown",
   "metadata": {},
   "source": [
    "# Data Visualizatoin"
   ]
  },
  {
   "attachments": {},
   "cell_type": "markdown",
   "metadata": {},
   "source": [
    "##### Analyze how prices of the stock have moved over the period of time and how the end of the quarters affects the prices of the stock."
   ]
  },
  {
   "cell_type": "code",
   "execution_count": 12,
   "metadata": {},
   "outputs": [
    {
     "data": {
      "image/png": "[encoded data removed]",
      "text/plain": [
       "<Figure size 1080x360 with 1 Axes>"
      ]
     },
     "metadata": {
      "needs_background": "light"
     },
     "output_type": "display_data"
    }
   ],
   "source": [
    "plt.figure(figsize=(15,5))\n",
    "plt.plot(df['Close'])\n",
    "plt.title('Tesla Close price.', fontsize=15)\n",
    "plt.ylabel('Price in dollars.')\n",
    "plt.show()\n"
   ]
  },
  {
   "cell_type": "code",
   "execution_count": 13,
   "metadata": {},
   "outputs": [
    {
     "data": {
      "text/plain": [
       "0       2018-10-08\n",
       "1       2018-10-05\n",
       "2       2018-10-04\n",
       "3       2018-10-03\n",
       "4       2018-10-01\n",
       "           ...    \n",
       "1230    2013-10-14\n",
       "1231    2013-10-11\n",
       "1232    2013-10-10\n",
       "1233    2013-10-09\n",
       "1234    2013-10-08\n",
       "Name: Date, Length: 1235, dtype: object"
      ]
     },
     "execution_count": 13,
     "metadata": {},
     "output_type": "execute_result"
    }
   ],
   "source": [
    "df[\"Date\"]\n"
   ]
  },
  {
   "attachments": {},
   "cell_type": "markdown",
   "metadata": {},
   "source": [
    " "
   ]
  },
  {
   "attachments": {},
   "cell_type": "markdown",
   "metadata": {},
   "source": [
    " "
   ]
  },
  {
   "cell_type": "code",
   "execution_count": 16,
   "metadata": {},
   "outputs": [
    {
     "data": {
      "text/plain": [
       "Date                    0\n",
       "Open                    0\n",
       "High                    0\n",
       "Low                     0\n",
       "Last                    0\n",
       "Close                   0\n",
       "Total Trade Quantity    0\n",
       "Turnover (Lacs)         0\n",
       "dtype: int64"
      ]
     },
     "execution_count": 16,
     "metadata": {},
     "output_type": "execute_result"
    }
   ],
   "source": [
    "df.isnull().sum()\n"
   ]
  },
  {
   "attachments": {},
   "cell_type": "markdown",
   "metadata": {},
   "source": [
    "### Distribution plot"
   ]
  },
  {
   "cell_type": "code",
   "execution_count": 59,
   "metadata": {},
   "outputs": [
    {
     "name": "stderr",
     "output_type": "stream",
     "text": [
      "C:\\Users\\laxmi\\anaconda3\\lib\\site-packages\\seaborn\\distributions.py:2619: FutureWarning: `distplot` is a deprecated function and will be removed in a future version. Please adapt your code to use either `displot` (a figure-level function with similar flexibility) or `histplot` (an axes-level function for histograms).\n",
      "  warnings.warn(msg, FutureWarning)\n",
      "C:\\Users\\laxmi\\anaconda3\\lib\\site-packages\\seaborn\\distributions.py:2619: FutureWarning: `distplot` is a deprecated function and will be removed in a future version. Please adapt your code to use either `displot` (a figure-level function with similar flexibility) or `histplot` (an axes-level function for histograms).\n",
      "  warnings.warn(msg, FutureWarning)\n",
      "C:\\Users\\laxmi\\anaconda3\\lib\\site-packages\\seaborn\\distributions.py:2619: FutureWarning: `distplot` is a deprecated function and will be removed in a future version. Please adapt your code to use either `displot` (a figure-level function with similar flexibility) or `histplot` (an axes-level function for histograms).\n",
      "  warnings.warn(msg, FutureWarning)\n",
      "C:\\Users\\laxmi\\anaconda3\\lib\\site-packages\\seaborn\\distributions.py:2619: FutureWarning: `distplot` is a deprecated function and will be removed in a future version. Please adapt your code to use either `displot` (a figure-level function with similar flexibility) or `histplot` (an axes-level function for histograms).\n",
      "  warnings.warn(msg, FutureWarning)\n",
      "C:\\Users\\laxmi\\anaconda3\\lib\\site-packages\\seaborn\\distributions.py:2619: FutureWarning: `distplot` is a deprecated function and will be removed in a future version. Please adapt your code to use either `displot` (a figure-level function with similar flexibility) or `histplot` (an axes-level function for histograms).\n",
      "  warnings.warn(msg, FutureWarning)\n",
      "C:\\Users\\laxmi\\anaconda3\\lib\\site-packages\\seaborn\\distributions.py:2619: FutureWarning: `distplot` is a deprecated function and will be removed in a future version. Please adapt your code to use either `displot` (a figure-level function with similar flexibility) or `histplot` (an axes-level function for histograms).\n",
      "  warnings.warn(msg, FutureWarning)\n"
     ]
    },
    {
     "ename": "ValueError",
     "evalue": "num must be 1 <= num <= 6, not 7",
     "output_type": "error",
     "traceback": [
      "\u001b[1;31m---------------------------------------------------------------------------\u001b[0m",
      "\u001b[1;31mValueError\u001b[0m                                Traceback (most recent call last)",
      "Input \u001b[1;32mIn [59]\u001b[0m, in \u001b[0;36m<cell line: 5>\u001b[1;34m()\u001b[0m\n\u001b[0;32m      3\u001b[0m plt\u001b[38;5;241m.\u001b[39msubplots(figsize\u001b[38;5;241m=\u001b[39m(\u001b[38;5;241m20\u001b[39m,\u001b[38;5;241m10\u001b[39m))\n\u001b[0;32m      5\u001b[0m \u001b[38;5;28;01mfor\u001b[39;00m i, col \u001b[38;5;129;01min\u001b[39;00m \u001b[38;5;28menumerate\u001b[39m(features):\n\u001b[1;32m----> 6\u001b[0m     \u001b[43mplt\u001b[49m\u001b[38;5;241;43m.\u001b[39;49m\u001b[43msubplot\u001b[49m\u001b[43m(\u001b[49m\u001b[38;5;241;43m2\u001b[39;49m\u001b[43m,\u001b[49m\u001b[38;5;241;43m3\u001b[39;49m\u001b[43m,\u001b[49m\u001b[43mi\u001b[49m\u001b[38;5;241;43m+\u001b[39;49m\u001b[38;5;241;43m1\u001b[39;49m\u001b[43m)\u001b[49m\n\u001b[0;32m      7\u001b[0m     sb\u001b[38;5;241m.\u001b[39mdistplot(df[col])\n\u001b[0;32m      8\u001b[0m plt\u001b[38;5;241m.\u001b[39mshow()\n",
      "File \u001b[1;32m~\\anaconda3\\lib\\site-packages\\matplotlib\\pyplot.py:1268\u001b[0m, in \u001b[0;36msubplot\u001b[1;34m(*args, **kwargs)\u001b[0m\n\u001b[0;32m   1265\u001b[0m fig \u001b[38;5;241m=\u001b[39m gcf()\n\u001b[0;32m   1267\u001b[0m \u001b[38;5;66;03m# First, search for an existing subplot with a matching spec.\u001b[39;00m\n\u001b[1;32m-> 1268\u001b[0m key \u001b[38;5;241m=\u001b[39m \u001b[43mSubplotSpec\u001b[49m\u001b[38;5;241;43m.\u001b[39;49m\u001b[43m_from_subplot_args\u001b[49m\u001b[43m(\u001b[49m\u001b[43mfig\u001b[49m\u001b[43m,\u001b[49m\u001b[43m \u001b[49m\u001b[43margs\u001b[49m\u001b[43m)\u001b[49m\n\u001b[0;32m   1270\u001b[0m \u001b[38;5;28;01mfor\u001b[39;00m ax \u001b[38;5;129;01min\u001b[39;00m fig\u001b[38;5;241m.\u001b[39maxes:\n\u001b[0;32m   1271\u001b[0m     \u001b[38;5;66;03m# if we found an axes at the position sort out if we can re-use it\u001b[39;00m\n\u001b[0;32m   1272\u001b[0m     \u001b[38;5;28;01mif\u001b[39;00m \u001b[38;5;28mhasattr\u001b[39m(ax, \u001b[38;5;124m'\u001b[39m\u001b[38;5;124mget_subplotspec\u001b[39m\u001b[38;5;124m'\u001b[39m) \u001b[38;5;129;01mand\u001b[39;00m ax\u001b[38;5;241m.\u001b[39mget_subplotspec() \u001b[38;5;241m==\u001b[39m key:\n\u001b[0;32m   1273\u001b[0m         \u001b[38;5;66;03m# if the user passed no kwargs, re-use\u001b[39;00m\n",
      "File \u001b[1;32m~\\anaconda3\\lib\\site-packages\\matplotlib\\gridspec.py:608\u001b[0m, in \u001b[0;36mSubplotSpec._from_subplot_args\u001b[1;34m(figure, args)\u001b[0m\n\u001b[0;32m    606\u001b[0m \u001b[38;5;28;01melse\u001b[39;00m:\n\u001b[0;32m    607\u001b[0m     \u001b[38;5;28;01mif\u001b[39;00m \u001b[38;5;129;01mnot\u001b[39;00m \u001b[38;5;28misinstance\u001b[39m(num, Integral) \u001b[38;5;129;01mor\u001b[39;00m num \u001b[38;5;241m<\u001b[39m \u001b[38;5;241m1\u001b[39m \u001b[38;5;129;01mor\u001b[39;00m num \u001b[38;5;241m>\u001b[39m rows\u001b[38;5;241m*\u001b[39mcols:\n\u001b[1;32m--> 608\u001b[0m         \u001b[38;5;28;01mraise\u001b[39;00m \u001b[38;5;167;01mValueError\u001b[39;00m(\n\u001b[0;32m    609\u001b[0m             \u001b[38;5;124mf\u001b[39m\u001b[38;5;124m\"\u001b[39m\u001b[38;5;124mnum must be 1 <= num <= \u001b[39m\u001b[38;5;132;01m{\u001b[39;00mrows\u001b[38;5;241m*\u001b[39mcols\u001b[38;5;132;01m}\u001b[39;00m\u001b[38;5;124m, not \u001b[39m\u001b[38;5;132;01m{\u001b[39;00mnum\u001b[38;5;132;01m!r}\u001b[39;00m\u001b[38;5;124m\"\u001b[39m)\n\u001b[0;32m    610\u001b[0m     i \u001b[38;5;241m=\u001b[39m j \u001b[38;5;241m=\u001b[39m num\n\u001b[0;32m    611\u001b[0m \u001b[38;5;28;01mreturn\u001b[39;00m gs[i\u001b[38;5;241m-\u001b[39m\u001b[38;5;241m1\u001b[39m:j]\n",
      "\u001b[1;31mValueError\u001b[0m: num must be 1 <= num <= 6, not 7"
     ]
    },
    {
     "data": {
      "image/png": "[encoded data removed]",
      "text/plain": [
       "<Figure size 1440x720 with 6 Axes>"
      ]
     },
     "metadata": {
      "needs_background": "light"
     },
     "output_type": "display_data"
    }
   ],
   "source": [
    "features = ['Open', 'High', 'Low','Last', 'Close','Total Trade Quantity','Turnover (Lacs)']\n",
    "\n",
    "plt.subplots(figsize=(20,10))\n",
    "\n",
    "for i, col in enumerate(features):\n",
    "    plt.subplot(2,3,i+1)\n",
    "    sb.distplot(df[col])\n",
    "plt.show()\n"
   ]
  },
  {
   "attachments": {},
   "cell_type": "markdown",
   "metadata": {},
   "source": [
    "##### we can see two peaks which means the data has varied significantly in two regions. And the Volume data is left-skewed."
   ]
  },
  {
   "cell_type": "code",
   "execution_count": 60,
   "metadata": {},
   "outputs": [
    {
     "name": "stderr",
     "output_type": "stream",
     "text": [
      "C:\\Users\\laxmi\\anaconda3\\lib\\site-packages\\seaborn\\_decorators.py:36: FutureWarning: Pass the following variable as a keyword arg: x. From version 0.12, the only valid positional argument will be `data`, and passing other arguments without an explicit keyword will result in an error or misinterpretation.\n",
      "  warnings.warn(\n",
      "C:\\Users\\laxmi\\anaconda3\\lib\\site-packages\\seaborn\\_decorators.py:36: FutureWarning: Pass the following variable as a keyword arg: x. From version 0.12, the only valid positional argument will be `data`, and passing other arguments without an explicit keyword will result in an error or misinterpretation.\n",
      "  warnings.warn(\n",
      "C:\\Users\\laxmi\\anaconda3\\lib\\site-packages\\seaborn\\_decorators.py:36: FutureWarning: Pass the following variable as a keyword arg: x. From version 0.12, the only valid positional argument will be `data`, and passing other arguments without an explicit keyword will result in an error or misinterpretation.\n",
      "  warnings.warn(\n",
      "C:\\Users\\laxmi\\anaconda3\\lib\\site-packages\\seaborn\\_decorators.py:36: FutureWarning: Pass the following variable as a keyword arg: x. From version 0.12, the only valid positional argument will be `data`, and passing other arguments without an explicit keyword will result in an error or misinterpretation.\n",
      "  warnings.warn(\n",
      "C:\\Users\\laxmi\\anaconda3\\lib\\site-packages\\seaborn\\_decorators.py:36: FutureWarning: Pass the following variable as a keyword arg: x. From version 0.12, the only valid positional argument will be `data`, and passing other arguments without an explicit keyword will result in an error or misinterpretation.\n",
      "  warnings.warn(\n",
      "C:\\Users\\laxmi\\anaconda3\\lib\\site-packages\\seaborn\\_decorators.py:36: FutureWarning: Pass the following variable as a keyword arg: x. From version 0.12, the only valid positional argument will be `data`, and passing other arguments without an explicit keyword will result in an error or misinterpretation.\n",
      "  warnings.warn(\n"
     ]
    },
    {
     "ename": "ValueError",
     "evalue": "num must be 1 <= num <= 6, not 7",
     "output_type": "error",
     "traceback": [
      "\u001b[1;31m---------------------------------------------------------------------------\u001b[0m",
      "\u001b[1;31mValueError\u001b[0m                                Traceback (most recent call last)",
      "Input \u001b[1;32mIn [60]\u001b[0m, in \u001b[0;36m<cell line: 2>\u001b[1;34m()\u001b[0m\n\u001b[0;32m      1\u001b[0m plt\u001b[38;5;241m.\u001b[39msubplots(figsize\u001b[38;5;241m=\u001b[39m(\u001b[38;5;241m20\u001b[39m,\u001b[38;5;241m10\u001b[39m))\n\u001b[0;32m      2\u001b[0m \u001b[38;5;28;01mfor\u001b[39;00m i, col \u001b[38;5;129;01min\u001b[39;00m \u001b[38;5;28menumerate\u001b[39m(features):\n\u001b[1;32m----> 3\u001b[0m     \u001b[43mplt\u001b[49m\u001b[38;5;241;43m.\u001b[39;49m\u001b[43msubplot\u001b[49m\u001b[43m(\u001b[49m\u001b[38;5;241;43m2\u001b[39;49m\u001b[43m,\u001b[49m\u001b[38;5;241;43m3\u001b[39;49m\u001b[43m,\u001b[49m\u001b[43mi\u001b[49m\u001b[38;5;241;43m+\u001b[39;49m\u001b[38;5;241;43m1\u001b[39;49m\u001b[43m)\u001b[49m\n\u001b[0;32m      4\u001b[0m     sb\u001b[38;5;241m.\u001b[39mboxplot(df[col])\n\u001b[0;32m      5\u001b[0m plt\u001b[38;5;241m.\u001b[39mshow()\n",
      "File \u001b[1;32m~\\anaconda3\\lib\\site-packages\\matplotlib\\pyplot.py:1268\u001b[0m, in \u001b[0;36msubplot\u001b[1;34m(*args, **kwargs)\u001b[0m\n\u001b[0;32m   1265\u001b[0m fig \u001b[38;5;241m=\u001b[39m gcf()\n\u001b[0;32m   1267\u001b[0m \u001b[38;5;66;03m# First, search for an existing subplot with a matching spec.\u001b[39;00m\n\u001b[1;32m-> 1268\u001b[0m key \u001b[38;5;241m=\u001b[39m \u001b[43mSubplotSpec\u001b[49m\u001b[38;5;241;43m.\u001b[39;49m\u001b[43m_from_subplot_args\u001b[49m\u001b[43m(\u001b[49m\u001b[43mfig\u001b[49m\u001b[43m,\u001b[49m\u001b[43m \u001b[49m\u001b[43margs\u001b[49m\u001b[43m)\u001b[49m\n\u001b[0;32m   1270\u001b[0m \u001b[38;5;28;01mfor\u001b[39;00m ax \u001b[38;5;129;01min\u001b[39;00m fig\u001b[38;5;241m.\u001b[39maxes:\n\u001b[0;32m   1271\u001b[0m     \u001b[38;5;66;03m# if we found an axes at the position sort out if we can re-use it\u001b[39;00m\n\u001b[0;32m   1272\u001b[0m     \u001b[38;5;28;01mif\u001b[39;00m \u001b[38;5;28mhasattr\u001b[39m(ax, \u001b[38;5;124m'\u001b[39m\u001b[38;5;124mget_subplotspec\u001b[39m\u001b[38;5;124m'\u001b[39m) \u001b[38;5;129;01mand\u001b[39;00m ax\u001b[38;5;241m.\u001b[39mget_subplotspec() \u001b[38;5;241m==\u001b[39m key:\n\u001b[0;32m   1273\u001b[0m         \u001b[38;5;66;03m# if the user passed no kwargs, re-use\u001b[39;00m\n",
      "File \u001b[1;32m~\\anaconda3\\lib\\site-packages\\matplotlib\\gridspec.py:608\u001b[0m, in \u001b[0;36mSubplotSpec._from_subplot_args\u001b[1;34m(figure, args)\u001b[0m\n\u001b[0;32m    606\u001b[0m \u001b[38;5;28;01melse\u001b[39;00m:\n\u001b[0;32m    607\u001b[0m     \u001b[38;5;28;01mif\u001b[39;00m \u001b[38;5;129;01mnot\u001b[39;00m \u001b[38;5;28misinstance\u001b[39m(num, Integral) \u001b[38;5;129;01mor\u001b[39;00m num \u001b[38;5;241m<\u001b[39m \u001b[38;5;241m1\u001b[39m \u001b[38;5;129;01mor\u001b[39;00m num \u001b[38;5;241m>\u001b[39m rows\u001b[38;5;241m*\u001b[39mcols:\n\u001b[1;32m--> 608\u001b[0m         \u001b[38;5;28;01mraise\u001b[39;00m \u001b[38;5;167;01mValueError\u001b[39;00m(\n\u001b[0;32m    609\u001b[0m             \u001b[38;5;124mf\u001b[39m\u001b[38;5;124m\"\u001b[39m\u001b[38;5;124mnum must be 1 <= num <= \u001b[39m\u001b[38;5;132;01m{\u001b[39;00mrows\u001b[38;5;241m*\u001b[39mcols\u001b[38;5;132;01m}\u001b[39;00m\u001b[38;5;124m, not \u001b[39m\u001b[38;5;132;01m{\u001b[39;00mnum\u001b[38;5;132;01m!r}\u001b[39;00m\u001b[38;5;124m\"\u001b[39m)\n\u001b[0;32m    610\u001b[0m     i \u001b[38;5;241m=\u001b[39m j \u001b[38;5;241m=\u001b[39m num\n\u001b[0;32m    611\u001b[0m \u001b[38;5;28;01mreturn\u001b[39;00m gs[i\u001b[38;5;241m-\u001b[39m\u001b[38;5;241m1\u001b[39m:j]\n",
      "\u001b[1;31mValueError\u001b[0m: num must be 1 <= num <= 6, not 7"
     ]
    },
    {
     "data": {
      "image/png": "[encoded data removed]",
      "text/plain": [
       "<Figure size 1440x720 with 6 Axes>"
      ]
     },
     "metadata": {
      "needs_background": "light"
     },
     "output_type": "display_data"
    }
   ],
   "source": [
    "plt.subplots(figsize=(20,10))\n",
    "for i, col in enumerate(features):\n",
    "    plt.subplot(2,3,i+1)\n",
    "    sb.boxplot(df[col])\n",
    "plt.show()\n"
   ]
  },
  {
   "cell_type": "code",
   "execution_count": 19,
   "metadata": {},
   "outputs": [
    {
     "data": {
      "image/png": "[encoded data removed]",
      "text/plain": [
       "<Figure size 432x288 with 49 Axes>"
      ]
     },
     "metadata": {
      "needs_background": "light"
     },
     "output_type": "display_data"
    }
   ],
   "source": [
    "from pandas.plotting import scatter_matrix\n",
    "scatter_matrix(df)\n",
    "plt.show()"
   ]
  },
  {
   "cell_type": "code",
   "execution_count": 20,
   "metadata": {},
   "outputs": [
    {
     "data": {
      "image/png": "[encoded data removed]",
      "text/plain": [
       "<Figure size 432x288 with 9 Axes>"
      ]
     },
     "metadata": {
      "needs_background": "light"
     },
     "output_type": "display_data"
    }
   ],
   "source": [
    "df.hist()\n",
    "plt.show()"
   ]
  },
  {
   "cell_type": "code",
   "execution_count": 21,
   "metadata": {},
   "outputs": [
    {
     "data": {
      "image/png": "[encoded data removed]",
      "text/plain": [
       "<Figure size 432x288 with 2 Axes>"
      ]
     },
     "metadata": {
      "needs_background": "light"
     },
     "output_type": "display_data"
    }
   ],
   "source": [
    "sb.heatmap(correlation)\n",
    "plt.show()"
   ]
  },
  {
   "attachments": {},
   "cell_type": "markdown",
   "metadata": {},
   "source": [
    "##### volume data contains outliers in it but the data in the rest of the columns are free from any outlier."
   ]
  },
  {
   "attachments": {},
   "cell_type": "markdown",
   "metadata": {},
   "source": [
    "# Feature Enginnering"
   ]
  },
  {
   "attachments": {},
   "cell_type": "markdown",
   "metadata": {},
   "source": [
    "##### Deriving day,month,year column"
   ]
  },
  {
   "cell_type": "code",
   "execution_count": 22,
   "metadata": {},
   "outputs": [
    {
     "data": {
      "text/html": [
       "<div>\n",
       "<style scoped>\n",
       "    .dataframe tbody tr th:only-of-type {\n",
       "        vertical-align: middle;\n",
       "    }\n",
       "\n",
       "    .dataframe tbody tr th {\n",
       "        vertical-align: top;\n",
       "    }\n",
       "\n",
       "    .dataframe thead th {\n",
       "        text-align: right;\n",
       "    }\n",
       "</style>\n",
       "<table border=\"1\" class=\"dataframe\">\n",
       "  <thead>\n",
       "    <tr style=\"text-align: right;\">\n",
       "      <th></th>\n",
       "      <th>Date</th>\n",
       "      <th>Open</th>\n",
       "      <th>High</th>\n",
       "      <th>Low</th>\n",
       "      <th>Last</th>\n",
       "      <th>Close</th>\n",
       "      <th>Total Trade Quantity</th>\n",
       "      <th>Turnover (Lacs)</th>\n",
       "      <th>day</th>\n",
       "      <th>month</th>\n",
       "      <th>year</th>\n",
       "    </tr>\n",
       "  </thead>\n",
       "  <tbody>\n",
       "    <tr>\n",
       "      <th>0</th>\n",
       "      <td>2018-10-08</td>\n",
       "      <td>208.00</td>\n",
       "      <td>222.25</td>\n",
       "      <td>206.85</td>\n",
       "      <td>216.00</td>\n",
       "      <td>215.15</td>\n",
       "      <td>4642146.0</td>\n",
       "      <td>10062.83</td>\n",
       "      <td>8</td>\n",
       "      <td>10</td>\n",
       "      <td>2018</td>\n",
       "    </tr>\n",
       "    <tr>\n",
       "      <th>1</th>\n",
       "      <td>2018-10-05</td>\n",
       "      <td>217.00</td>\n",
       "      <td>218.60</td>\n",
       "      <td>205.90</td>\n",
       "      <td>210.25</td>\n",
       "      <td>209.20</td>\n",
       "      <td>3519515.0</td>\n",
       "      <td>7407.06</td>\n",
       "      <td>5</td>\n",
       "      <td>10</td>\n",
       "      <td>2018</td>\n",
       "    </tr>\n",
       "    <tr>\n",
       "      <th>2</th>\n",
       "      <td>2018-10-04</td>\n",
       "      <td>223.50</td>\n",
       "      <td>227.80</td>\n",
       "      <td>216.15</td>\n",
       "      <td>217.25</td>\n",
       "      <td>218.20</td>\n",
       "      <td>1728786.0</td>\n",
       "      <td>3815.79</td>\n",
       "      <td>4</td>\n",
       "      <td>10</td>\n",
       "      <td>2018</td>\n",
       "    </tr>\n",
       "    <tr>\n",
       "      <th>3</th>\n",
       "      <td>2018-10-03</td>\n",
       "      <td>230.00</td>\n",
       "      <td>237.50</td>\n",
       "      <td>225.75</td>\n",
       "      <td>226.45</td>\n",
       "      <td>227.60</td>\n",
       "      <td>1708590.0</td>\n",
       "      <td>3960.27</td>\n",
       "      <td>3</td>\n",
       "      <td>10</td>\n",
       "      <td>2018</td>\n",
       "    </tr>\n",
       "    <tr>\n",
       "      <th>4</th>\n",
       "      <td>2018-10-01</td>\n",
       "      <td>234.55</td>\n",
       "      <td>234.60</td>\n",
       "      <td>221.05</td>\n",
       "      <td>230.30</td>\n",
       "      <td>230.90</td>\n",
       "      <td>1534749.0</td>\n",
       "      <td>3486.05</td>\n",
       "      <td>1</td>\n",
       "      <td>10</td>\n",
       "      <td>2018</td>\n",
       "    </tr>\n",
       "  </tbody>\n",
       "</table>\n",
       "</div>"
      ],
      "text/plain": [
       "         Date    Open    High     Low    Last   Close  Total Trade Quantity  \\\n",
       "0  2018-10-08  208.00  222.25  206.85  216.00  215.15             4642146.0   \n",
       "1  2018-10-05  217.00  218.60  205.90  210.25  209.20             3519515.0   \n",
       "2  2018-10-04  223.50  227.80  216.15  217.25  218.20             1728786.0   \n",
       "3  2018-10-03  230.00  237.50  225.75  226.45  227.60             1708590.0   \n",
       "4  2018-10-01  234.55  234.60  221.05  230.30  230.90             1534749.0   \n",
       "\n",
       "   Turnover (Lacs)  day  month  year  \n",
       "0         10062.83    8     10  2018  \n",
       "1          7407.06    5     10  2018  \n",
       "2          3815.79    4     10  2018  \n",
       "3          3960.27    3     10  2018  \n",
       "4          3486.05    1     10  2018  "
      ]
     },
     "execution_count": 22,
     "metadata": {},
     "output_type": "execute_result"
    }
   ],
   "source": [
    "splitted = df['Date'].str.split('-', expand=True)\n",
    "\n",
    "df['day'] = splitted[2].astype('int')\n",
    "df['month'] = splitted[1].astype('int')\n",
    "df['year'] = splitted[0].astype('int')\n",
    "\n",
    "df.head()\n"
   ]
  },
  {
   "cell_type": "code",
   "execution_count": 23,
   "metadata": {},
   "outputs": [
    {
     "data": {
      "text/plain": [
       "0        8\n",
       "1        5\n",
       "2        4\n",
       "3        3\n",
       "4        1\n",
       "        ..\n",
       "1230    14\n",
       "1231    11\n",
       "1232    10\n",
       "1233     9\n",
       "1234     8\n",
       "Name: day, Length: 1235, dtype: int32"
      ]
     },
     "execution_count": 23,
     "metadata": {},
     "output_type": "execute_result"
    }
   ],
   "source": [
    "df[\"day\"]"
   ]
  },
  {
   "attachments": {},
   "cell_type": "markdown",
   "metadata": {},
   "source": [
    "# Quarterly results"
   ]
  },
  {
   "cell_type": "code",
   "execution_count": 24,
   "metadata": {},
   "outputs": [
    {
     "data": {
      "text/html": [
       "<div>\n",
       "<style scoped>\n",
       "    .dataframe tbody tr th:only-of-type {\n",
       "        vertical-align: middle;\n",
       "    }\n",
       "\n",
       "    .dataframe tbody tr th {\n",
       "        vertical-align: top;\n",
       "    }\n",
       "\n",
       "    .dataframe thead th {\n",
       "        text-align: right;\n",
       "    }\n",
       "</style>\n",
       "<table border=\"1\" class=\"dataframe\">\n",
       "  <thead>\n",
       "    <tr style=\"text-align: right;\">\n",
       "      <th></th>\n",
       "      <th>Date</th>\n",
       "      <th>Open</th>\n",
       "      <th>High</th>\n",
       "      <th>Low</th>\n",
       "      <th>Last</th>\n",
       "      <th>Close</th>\n",
       "      <th>Total Trade Quantity</th>\n",
       "      <th>Turnover (Lacs)</th>\n",
       "      <th>day</th>\n",
       "      <th>month</th>\n",
       "      <th>year</th>\n",
       "      <th>is_quarter_end</th>\n",
       "    </tr>\n",
       "  </thead>\n",
       "  <tbody>\n",
       "    <tr>\n",
       "      <th>0</th>\n",
       "      <td>2018-10-08</td>\n",
       "      <td>208.00</td>\n",
       "      <td>222.25</td>\n",
       "      <td>206.85</td>\n",
       "      <td>216.00</td>\n",
       "      <td>215.15</td>\n",
       "      <td>4642146.0</td>\n",
       "      <td>10062.83</td>\n",
       "      <td>8</td>\n",
       "      <td>10</td>\n",
       "      <td>2018</td>\n",
       "      <td>0</td>\n",
       "    </tr>\n",
       "    <tr>\n",
       "      <th>1</th>\n",
       "      <td>2018-10-05</td>\n",
       "      <td>217.00</td>\n",
       "      <td>218.60</td>\n",
       "      <td>205.90</td>\n",
       "      <td>210.25</td>\n",
       "      <td>209.20</td>\n",
       "      <td>3519515.0</td>\n",
       "      <td>7407.06</td>\n",
       "      <td>5</td>\n",
       "      <td>10</td>\n",
       "      <td>2018</td>\n",
       "      <td>0</td>\n",
       "    </tr>\n",
       "    <tr>\n",
       "      <th>2</th>\n",
       "      <td>2018-10-04</td>\n",
       "      <td>223.50</td>\n",
       "      <td>227.80</td>\n",
       "      <td>216.15</td>\n",
       "      <td>217.25</td>\n",
       "      <td>218.20</td>\n",
       "      <td>1728786.0</td>\n",
       "      <td>3815.79</td>\n",
       "      <td>4</td>\n",
       "      <td>10</td>\n",
       "      <td>2018</td>\n",
       "      <td>0</td>\n",
       "    </tr>\n",
       "    <tr>\n",
       "      <th>3</th>\n",
       "      <td>2018-10-03</td>\n",
       "      <td>230.00</td>\n",
       "      <td>237.50</td>\n",
       "      <td>225.75</td>\n",
       "      <td>226.45</td>\n",
       "      <td>227.60</td>\n",
       "      <td>1708590.0</td>\n",
       "      <td>3960.27</td>\n",
       "      <td>3</td>\n",
       "      <td>10</td>\n",
       "      <td>2018</td>\n",
       "      <td>0</td>\n",
       "    </tr>\n",
       "    <tr>\n",
       "      <th>4</th>\n",
       "      <td>2018-10-01</td>\n",
       "      <td>234.55</td>\n",
       "      <td>234.60</td>\n",
       "      <td>221.05</td>\n",
       "      <td>230.30</td>\n",
       "      <td>230.90</td>\n",
       "      <td>1534749.0</td>\n",
       "      <td>3486.05</td>\n",
       "      <td>1</td>\n",
       "      <td>10</td>\n",
       "      <td>2018</td>\n",
       "      <td>0</td>\n",
       "    </tr>\n",
       "  </tbody>\n",
       "</table>\n",
       "</div>"
      ],
      "text/plain": [
       "         Date    Open    High     Low    Last   Close  Total Trade Quantity  \\\n",
       "0  2018-10-08  208.00  222.25  206.85  216.00  215.15             4642146.0   \n",
       "1  2018-10-05  217.00  218.60  205.90  210.25  209.20             3519515.0   \n",
       "2  2018-10-04  223.50  227.80  216.15  217.25  218.20             1728786.0   \n",
       "3  2018-10-03  230.00  237.50  225.75  226.45  227.60             1708590.0   \n",
       "4  2018-10-01  234.55  234.60  221.05  230.30  230.90             1534749.0   \n",
       "\n",
       "   Turnover (Lacs)  day  month  year  is_quarter_end  \n",
       "0         10062.83    8     10  2018               0  \n",
       "1          7407.06    5     10  2018               0  \n",
       "2          3815.79    4     10  2018               0  \n",
       "3          3960.27    3     10  2018               0  \n",
       "4          3486.05    1     10  2018               0  "
      ]
     },
     "execution_count": 24,
     "metadata": {},
     "output_type": "execute_result"
    }
   ],
   "source": [
    "df['is_quarter_end'] = np.where(df['month']%3==0,1,0)\n",
    "df.head()\n"
   ]
  },
  {
   "cell_type": "code",
   "execution_count": 25,
   "metadata": {},
   "outputs": [
    {
     "data": {
      "image/png": "[encoded data removed]",
      "text/plain": [
       "<Figure size 1440x720 with 4 Axes>"
      ]
     },
     "metadata": {
      "needs_background": "light"
     },
     "output_type": "display_data"
    }
   ],
   "source": [
    "data_grouped = df.groupby('year').mean()\n",
    "plt.subplots(figsize=(20,10))\n",
    "\n",
    "for i, col in enumerate(['Open', 'High', 'Low', 'Close']):\n",
    "    plt.subplot(2,2,i+1)\n",
    "    data_grouped[col].plot.bar()\n",
    "plt.show()\n"
   ]
  },
  {
   "attachments": {},
   "cell_type": "markdown",
   "metadata": {},
   "source": [
    "##### We can conclude stock prices have doubled from year 2013 to 2014"
   ]
  },
  {
   "cell_type": "code",
   "execution_count": 26,
   "metadata": {},
   "outputs": [
    {
     "data": {
      "text/html": [
       "<div>\n",
       "<style scoped>\n",
       "    .dataframe tbody tr th:only-of-type {\n",
       "        vertical-align: middle;\n",
       "    }\n",
       "\n",
       "    .dataframe tbody tr th {\n",
       "        vertical-align: top;\n",
       "    }\n",
       "\n",
       "    .dataframe thead th {\n",
       "        text-align: right;\n",
       "    }\n",
       "</style>\n",
       "<table border=\"1\" class=\"dataframe\">\n",
       "  <thead>\n",
       "    <tr style=\"text-align: right;\">\n",
       "      <th></th>\n",
       "      <th>Open</th>\n",
       "      <th>High</th>\n",
       "      <th>Low</th>\n",
       "      <th>Last</th>\n",
       "      <th>Close</th>\n",
       "      <th>Total Trade Quantity</th>\n",
       "      <th>Turnover (Lacs)</th>\n",
       "      <th>day</th>\n",
       "      <th>month</th>\n",
       "      <th>year</th>\n",
       "    </tr>\n",
       "    <tr>\n",
       "      <th>is_quarter_end</th>\n",
       "      <th></th>\n",
       "      <th></th>\n",
       "      <th></th>\n",
       "      <th></th>\n",
       "      <th></th>\n",
       "      <th></th>\n",
       "      <th></th>\n",
       "      <th></th>\n",
       "      <th></th>\n",
       "      <th></th>\n",
       "    </tr>\n",
       "  </thead>\n",
       "  <tbody>\n",
       "    <tr>\n",
       "      <th>0</th>\n",
       "      <td>169.356916</td>\n",
       "      <td>171.816585</td>\n",
       "      <td>166.733782</td>\n",
       "      <td>169.049266</td>\n",
       "      <td>169.035251</td>\n",
       "      <td>2.614783e+06</td>\n",
       "      <td>4878.112815</td>\n",
       "      <td>15.839657</td>\n",
       "      <td>5.987760</td>\n",
       "      <td>2015.801714</td>\n",
       "    </tr>\n",
       "    <tr>\n",
       "      <th>1</th>\n",
       "      <td>168.169019</td>\n",
       "      <td>170.671651</td>\n",
       "      <td>165.754426</td>\n",
       "      <td>168.124761</td>\n",
       "      <td>168.136483</td>\n",
       "      <td>2.583370e+06</td>\n",
       "      <td>4774.862344</td>\n",
       "      <td>15.645933</td>\n",
       "      <td>7.521531</td>\n",
       "      <td>2015.712919</td>\n",
       "    </tr>\n",
       "  </tbody>\n",
       "</table>\n",
       "</div>"
      ],
      "text/plain": [
       "                      Open        High         Low        Last       Close  \\\n",
       "is_quarter_end                                                               \n",
       "0               169.356916  171.816585  166.733782  169.049266  169.035251   \n",
       "1               168.169019  170.671651  165.754426  168.124761  168.136483   \n",
       "\n",
       "                Total Trade Quantity  Turnover (Lacs)        day     month  \\\n",
       "is_quarter_end                                                               \n",
       "0                       2.614783e+06      4878.112815  15.839657  5.987760   \n",
       "1                       2.583370e+06      4774.862344  15.645933  7.521531   \n",
       "\n",
       "                       year  \n",
       "is_quarter_end               \n",
       "0               2015.801714  \n",
       "1               2015.712919  "
      ]
     },
     "execution_count": 26,
     "metadata": {},
     "output_type": "execute_result"
    }
   ],
   "source": [
    "df.groupby('is_quarter_end').mean()\n"
   ]
  },
  {
   "attachments": {},
   "cell_type": "markdown",
   "metadata": {},
   "source": [
    "##### Prices are higher in the months which are quarter end as compared to that of the non-quarter end months. The volume of trades is lower in the months which are quarter end."
   ]
  },
  {
   "attachments": {},
   "cell_type": "markdown",
   "metadata": {},
   "source": [
    "# We have added the target feature which is a signal whether to buy or not we will train our model to predict this only"
   ]
  },
  {
   "cell_type": "code",
   "execution_count": 27,
   "metadata": {},
   "outputs": [
    {
     "data": {
      "text/html": [
       "<div>\n",
       "<style scoped>\n",
       "    .dataframe tbody tr th:only-of-type {\n",
       "        vertical-align: middle;\n",
       "    }\n",
       "\n",
       "    .dataframe tbody tr th {\n",
       "        vertical-align: top;\n",
       "    }\n",
       "\n",
       "    .dataframe thead th {\n",
       "        text-align: right;\n",
       "    }\n",
       "</style>\n",
       "<table border=\"1\" class=\"dataframe\">\n",
       "  <thead>\n",
       "    <tr style=\"text-align: right;\">\n",
       "      <th></th>\n",
       "      <th>Date</th>\n",
       "      <th>Open</th>\n",
       "      <th>High</th>\n",
       "      <th>Low</th>\n",
       "      <th>Last</th>\n",
       "      <th>Close</th>\n",
       "      <th>Total Trade Quantity</th>\n",
       "      <th>Turnover (Lacs)</th>\n",
       "      <th>day</th>\n",
       "      <th>month</th>\n",
       "      <th>year</th>\n",
       "      <th>is_quarter_end</th>\n",
       "      <th>open-close</th>\n",
       "      <th>low-high</th>\n",
       "      <th>target</th>\n",
       "    </tr>\n",
       "  </thead>\n",
       "  <tbody>\n",
       "    <tr>\n",
       "      <th>0</th>\n",
       "      <td>2018-10-08</td>\n",
       "      <td>208.00</td>\n",
       "      <td>222.25</td>\n",
       "      <td>206.85</td>\n",
       "      <td>216.00</td>\n",
       "      <td>215.15</td>\n",
       "      <td>4642146.0</td>\n",
       "      <td>10062.83</td>\n",
       "      <td>8</td>\n",
       "      <td>10</td>\n",
       "      <td>2018</td>\n",
       "      <td>0</td>\n",
       "      <td>-7.15</td>\n",
       "      <td>-15.40</td>\n",
       "      <td>0</td>\n",
       "    </tr>\n",
       "    <tr>\n",
       "      <th>1</th>\n",
       "      <td>2018-10-05</td>\n",
       "      <td>217.00</td>\n",
       "      <td>218.60</td>\n",
       "      <td>205.90</td>\n",
       "      <td>210.25</td>\n",
       "      <td>209.20</td>\n",
       "      <td>3519515.0</td>\n",
       "      <td>7407.06</td>\n",
       "      <td>5</td>\n",
       "      <td>10</td>\n",
       "      <td>2018</td>\n",
       "      <td>0</td>\n",
       "      <td>7.80</td>\n",
       "      <td>-12.70</td>\n",
       "      <td>1</td>\n",
       "    </tr>\n",
       "    <tr>\n",
       "      <th>2</th>\n",
       "      <td>2018-10-04</td>\n",
       "      <td>223.50</td>\n",
       "      <td>227.80</td>\n",
       "      <td>216.15</td>\n",
       "      <td>217.25</td>\n",
       "      <td>218.20</td>\n",
       "      <td>1728786.0</td>\n",
       "      <td>3815.79</td>\n",
       "      <td>4</td>\n",
       "      <td>10</td>\n",
       "      <td>2018</td>\n",
       "      <td>0</td>\n",
       "      <td>5.30</td>\n",
       "      <td>-11.65</td>\n",
       "      <td>1</td>\n",
       "    </tr>\n",
       "    <tr>\n",
       "      <th>3</th>\n",
       "      <td>2018-10-03</td>\n",
       "      <td>230.00</td>\n",
       "      <td>237.50</td>\n",
       "      <td>225.75</td>\n",
       "      <td>226.45</td>\n",
       "      <td>227.60</td>\n",
       "      <td>1708590.0</td>\n",
       "      <td>3960.27</td>\n",
       "      <td>3</td>\n",
       "      <td>10</td>\n",
       "      <td>2018</td>\n",
       "      <td>0</td>\n",
       "      <td>2.40</td>\n",
       "      <td>-11.75</td>\n",
       "      <td>1</td>\n",
       "    </tr>\n",
       "    <tr>\n",
       "      <th>4</th>\n",
       "      <td>2018-10-01</td>\n",
       "      <td>234.55</td>\n",
       "      <td>234.60</td>\n",
       "      <td>221.05</td>\n",
       "      <td>230.30</td>\n",
       "      <td>230.90</td>\n",
       "      <td>1534749.0</td>\n",
       "      <td>3486.05</td>\n",
       "      <td>1</td>\n",
       "      <td>10</td>\n",
       "      <td>2018</td>\n",
       "      <td>0</td>\n",
       "      <td>3.65</td>\n",
       "      <td>-13.55</td>\n",
       "      <td>1</td>\n",
       "    </tr>\n",
       "  </tbody>\n",
       "</table>\n",
       "</div>"
      ],
      "text/plain": [
       "         Date    Open    High     Low    Last   Close  Total Trade Quantity  \\\n",
       "0  2018-10-08  208.00  222.25  206.85  216.00  215.15             4642146.0   \n",
       "1  2018-10-05  217.00  218.60  205.90  210.25  209.20             3519515.0   \n",
       "2  2018-10-04  223.50  227.80  216.15  217.25  218.20             1728786.0   \n",
       "3  2018-10-03  230.00  237.50  225.75  226.45  227.60             1708590.0   \n",
       "4  2018-10-01  234.55  234.60  221.05  230.30  230.90             1534749.0   \n",
       "\n",
       "   Turnover (Lacs)  day  month  year  is_quarter_end  open-close  low-high  \\\n",
       "0         10062.83    8     10  2018               0       -7.15    -15.40   \n",
       "1          7407.06    5     10  2018               0        7.80    -12.70   \n",
       "2          3815.79    4     10  2018               0        5.30    -11.65   \n",
       "3          3960.27    3     10  2018               0        2.40    -11.75   \n",
       "4          3486.05    1     10  2018               0        3.65    -13.55   \n",
       "\n",
       "   target  \n",
       "0       0  \n",
       "1       1  \n",
       "2       1  \n",
       "3       1  \n",
       "4       1  "
      ]
     },
     "execution_count": 27,
     "metadata": {},
     "output_type": "execute_result"
    }
   ],
   "source": [
    "df['open-close'] = df['Open'] - df['Close']\n",
    "df['low-high'] = df['Low'] - df['High']\n",
    "df['target'] = np.where(df['Close'].shift(-1) > df['Close'], 1, 0)\n",
    "df.head()"
   ]
  },
  {
   "cell_type": "code",
   "execution_count": 28,
   "metadata": {},
   "outputs": [
    {
     "data": {
      "image/png": "[encoded data removed]",
      "text/plain": [
       "<Figure size 432x288 with 1 Axes>"
      ]
     },
     "metadata": {},
     "output_type": "display_data"
    }
   ],
   "source": [
    "plt.pie(df['target'].value_counts().values,\n",
    "\t\tlabels=[0, 1], autopct='%1.1f%%')\n",
    "plt.show()\n"
   ]
  },
  {
   "attachments": {},
   "cell_type": "markdown",
   "metadata": {},
   "source": [
    "##### As our concern is with the highly correlated features only so, we will visualize our heatmap as per that criteria only."
   ]
  },
  {
   "cell_type": "code",
   "execution_count": 29,
   "metadata": {},
   "outputs": [
    {
     "data": {
      "image/png": "[encoded data removed]",
      "text/plain": [
       "<Figure size 720x720 with 1 Axes>"
      ]
     },
     "metadata": {
      "needs_background": "light"
     },
     "output_type": "display_data"
    }
   ],
   "source": [
    "plt.figure(figsize=(10, 10))\n",
    "sb.heatmap(df.corr() > 0.9, annot=True, cbar=False)\n",
    "plt.show()\n"
   ]
  },
  {
   "attachments": {},
   "cell_type": "markdown",
   "metadata": {},
   "source": [
    "##### This heatmap shows new added columns are not highly correlated"
   ]
  },
  {
   "attachments": {},
   "cell_type": "markdown",
   "metadata": {},
   "source": [
    "# Data Splitting and Normalization"
   ]
  },
  {
   "cell_type": "code",
   "execution_count": 30,
   "metadata": {},
   "outputs": [
    {
     "name": "stdout",
     "output_type": "stream",
     "text": [
      "(1111, 3) (124, 3)\n"
     ]
    }
   ],
   "source": [
    "features = df[['open-close', 'low-high', 'is_quarter_end']]\n",
    "target = df['target']\n",
    "\n",
    "scaler = StandardScaler()\n",
    "features = scaler.fit_transform(features)\n",
    "\n",
    "X_train, X_valid, Y_train, Y_valid = train_test_split(\n",
    "\tfeatures, target, test_size=0.1, random_state=2022)\n",
    "print(X_train.shape, X_valid.shape)\n"
   ]
  },
  {
   "cell_type": "code",
   "execution_count": 31,
   "metadata": {},
   "outputs": [
    {
     "name": "stdout",
     "output_type": "stream",
     "text": [
      "Train Set Size:  (988, 3) (988,)\n",
      "Test Set Size:  (247, 3) (247,)\n"
     ]
    }
   ],
   "source": [
    "from sklearn.model_selection import train_test_split\n",
    "X_train,x_test,Y_train,y_test = train_test_split(features,target,test_size=0.2,random_state=0)\n",
    "print(\"Train Set Size: \",X_train.shape,Y_train.shape)\n",
    "print(\"Test Set Size: \",x_test.shape,y_test.shape)"
   ]
  },
  {
   "attachments": {},
   "cell_type": "markdown",
   "metadata": {},
   "source": [
    "# Learning algorithms"
   ]
  },
  {
   "cell_type": "code",
   "execution_count": 32,
   "metadata": {},
   "outputs": [],
   "source": [
    "from sklearn.metrics import mean_squared_error,mean_absolute_error,r2_score,accuracy_score\n",
    "from math import sqrt"
   ]
  },
  {
   "attachments": {},
   "cell_type": "markdown",
   "metadata": {},
   "source": [
    "# Linear regression"
   ]
  },
  {
   "cell_type": "code",
   "execution_count": 33,
   "metadata": {},
   "outputs": [],
   "source": [
    "from sklearn.linear_model import LinearRegression"
   ]
  },
  {
   "cell_type": "code",
   "execution_count": 34,
   "metadata": {},
   "outputs": [
    {
     "data": {
      "text/plain": [
       "array([ 0.42120666,  0.29710381,  0.79170833,  0.45855278,  0.24013884,\n",
       "        0.45465373,  0.87533026,  0.45390369,  0.62757591, -0.2040779 ,\n",
       "        0.24779237,  0.69993969,  0.55568193,  0.59252068,  0.49864965,\n",
       "        0.89366195,  0.62168147,  0.32808674,  0.75547294,  0.4152031 ,\n",
       "        1.39531664,  0.39815644,  0.4416815 ,  0.41788229,  0.34541257,\n",
       "        0.25739736,  0.4797401 ,  0.5192988 ,  0.44097114,  0.296741  ,\n",
       "        0.28687914,  0.1993316 ,  0.62457572,  1.88166852,  0.44339771,\n",
       "        0.60131151,  0.20522817, -0.11084991,  0.65677638,  0.46901907,\n",
       "        0.52101395,  0.52808962,  1.16221425,  0.52673621,  0.76826981,\n",
       "        0.56318559,  0.43685809,  0.17703356,  0.48428538,  0.53080956,\n",
       "        0.79031523,  0.08897972,  0.30488983,  0.46151541,  0.45293858,\n",
       "        0.23899836,  0.37489435,  0.69608033,  0.35559649,  0.39665528,\n",
       "        0.70658737,  0.49785779, -0.04670228,  0.39519488,  0.256794  ,\n",
       "        0.74672181,  0.29088518, -0.36874318,  0.45801779,  0.43128358,\n",
       "        0.38518527,  0.04324315,  0.45572584,  0.48706945,  0.57000652,\n",
       "        0.92464488,  0.38121891,  0.46670161,  0.63158302,  0.7582602 ,\n",
       "        0.55414534,  0.46945025,  1.00558336,  0.27069165,  1.22299889,\n",
       "        0.39033179,  0.3552755 ,  0.27201744,  0.64783887,  0.40791237,\n",
       "       -0.34108143,  0.339837  ,  1.37062071,  0.29331069,  0.88958753,\n",
       "        0.29331069,  0.39997965,  0.47377835,  0.37500135,  0.26147072,\n",
       "        0.4342859 ,  0.48820886,  0.47513069,  0.15913198,  0.54749341,\n",
       "        0.42682086,  0.30793077,  0.63840394,  0.946837  ,  0.27101477,\n",
       "        0.46552145,  0.55424915,  0.43947104,  0.20465456,  0.56882848,\n",
       "        0.38351087,  0.5992743 ,  0.59288137,  0.6208223 ,  0.65227397,\n",
       "        0.55349804,  0.21541315,  0.65673669,  0.41352763,  0.41734624,\n",
       "        0.13507803,  0.58276476,  0.77101737,  0.50357899,  0.66831477,\n",
       "        0.52969777,  0.49303333,  0.52748626,  0.40495081,  0.27176269,\n",
       "        0.48460425,  0.39676334,  0.54324575,  0.89591209,  1.48815632,\n",
       "        0.54045849,  0.14397479,  0.76966397, -0.05156537,  0.19118489,\n",
       "        0.49007177,  0.34358936,  0.85356614,  0.80875392,  0.24360777,\n",
       "        0.54202696,  0.44011515,  0.59620467,  0.28434557,  0.21933982,\n",
       "        0.44597097,  0.57633214,  0.16445068,  0.34069511,  0.45508279,\n",
       "        0.53495023, -0.40808788,  0.63776195,  0.32411826,  0.6647091 ,\n",
       "        0.36621053,  0.4200265 , -0.40984166,  0.23777851,  0.21015963,\n",
       "        0.13543871,  0.20047102,  0.59155558,  0.45351432,  0.34927406,\n",
       "        1.18097393,  0.43110821,  0.57476367,  0.1755324 ,  0.58694511,\n",
       "        0.33773461,  0.25004251,  0.5549992 ,  0.79925274,  0.32407857,\n",
       "        0.51618948,  0.30049549,  1.5151729 ,  0.39369585,  0.28891528,\n",
       "        0.2560032 ,  0.33458454,  0.63207938,  0.52508943,  0.48810187,\n",
       "        0.74378786,  1.00347991,  0.20411851,  0.22806333,  0.49678569,\n",
       "        0.22737953,  0.72206556, -0.06539571,  0.50465109,  0.94973019,\n",
       "        0.36131982,  0.05188728,  0.5228361 ,  0.0437792 ,  0.48428219,\n",
       "        0.40384008,  0.53141399,  0.38844127,  0.68235805,  0.50486722,\n",
       "        0.30156546,  0.45776304,  0.30499577,  1.21606884,  0.23574236,\n",
       "        0.45330032,  0.45615489,  0.4629085 ,  0.5585365 ,  0.09727418,\n",
       "        0.44103845,  0.5423887 ,  0.54281988,  0.59337773,  0.18925575,\n",
       "        0.70662706,  0.69157899,  0.66949387,  0.22791558,  0.36621053,\n",
       "        0.49635664, -0.7923462 ,  0.62725492,  1.0387105 ,  0.36749663,\n",
       "        0.76319272,  0.66610326,  0.73006452,  0.72459807,  0.40473575,\n",
       "        0.79560738,  0.46477034])"
      ]
     },
     "execution_count": 34,
     "metadata": {},
     "output_type": "execute_result"
    }
   ],
   "source": [
    "lr_model = LinearRegression()\n",
    "lr_model.fit(X_train, Y_train)\n",
    "y_pred_lr= lr_model.predict(x_test)\n",
    "y_pred_lr"
   ]
  },
  {
   "cell_type": "code",
   "execution_count": 35,
   "metadata": {},
   "outputs": [
    {
     "name": "stdout",
     "output_type": "stream",
     "text": [
      "Coefficients : \n",
      " [ 0.30683502 -0.03444536 -0.00652505]\n"
     ]
    }
   ],
   "source": [
    "print(\"Coefficients : \\n\",lr_model.coef_)"
   ]
  },
  {
   "cell_type": "code",
   "execution_count": 36,
   "metadata": {},
   "outputs": [
    {
     "name": "stdout",
     "output_type": "stream",
     "text": [
      "Intercept: \n",
      " 0.49332002538450265\n"
     ]
    }
   ],
   "source": [
    "print(\"Intercept: \\n\",lr_model.intercept_)"
   ]
  },
  {
   "cell_type": "code",
   "execution_count": 37,
   "metadata": {},
   "outputs": [
    {
     "name": "stdout",
     "output_type": "stream",
     "text": [
      "Mean Square Error from Linear Regression is  0.1487355510537949\n",
      "r2 score :  0.3978628245360999\n",
      "Root Mean Square Error is :  0.38566248333717257\n",
      "Mean absolute error :  0.3555905900079101\n"
     ]
    }
   ],
   "source": [
    "mse_lr = mean_squared_error(y_test,y_pred_lr)\n",
    "print(\"Mean Square Error from Linear Regression is \",mse_lr)\n",
    "r2_lr = r2_score(y_test,y_pred_lr)\n",
    "print(\"r2 score : \",r2_lr)\n",
    "rmse_lr = sqrt(mse_lr)\n",
    "print(\"Root Mean Square Error is : \",rmse_lr)\n",
    "mae_lr = mean_absolute_error(y_test,y_pred_lr)\n",
    "print(\"Mean absolute error : \",mae_lr)"
   ]
  },
  {
   "cell_type": "code",
   "execution_count": 38,
   "metadata": {},
   "outputs": [
    {
     "data": {
      "image/png": "[encoded data removed]",
      "text/plain": [
       "<Figure size 432x288 with 1 Axes>"
      ]
     },
     "metadata": {
      "needs_background": "light"
     },
     "output_type": "display_data"
    }
   ],
   "source": [
    "plt.plot(y_pred_lr,label=\"predictions\",color=\"red\")\n",
    "plt.ylabel(\"predicted tips\")\n",
    "plt.show()"
   ]
  },
  {
   "attachments": {},
   "cell_type": "markdown",
   "metadata": {},
   "source": [
    "# SVM"
   ]
  },
  {
   "cell_type": "code",
   "execution_count": 39,
   "metadata": {},
   "outputs": [],
   "source": [
    "from sklearn.svm import SVR"
   ]
  },
  {
   "cell_type": "code",
   "execution_count": 40,
   "metadata": {},
   "outputs": [
    {
     "data": {
      "text/plain": [
       "array([ 0.22337588, -0.00776759,  1.08520518,  0.38603981, -0.06725962,\n",
       "        0.35420767,  1.07907226,  0.34265066,  0.99540938,  0.08253989,\n",
       "        0.24943589,  1.11156285,  0.75166967,  0.83343022,  0.48794928,\n",
       "        1.09303378,  0.83723574,  0.05391033,  1.08893974,  0.20193581,\n",
       "        0.91474645,  0.13796768,  0.31690033,  0.20916239,  0.00662788,\n",
       "       -0.09169602,  0.4474682 ,  0.60933072,  0.3150656 , -0.10753055,\n",
       "       -0.05102071, -0.13034791,  0.87284591,  0.88219321,  0.3006018 ,\n",
       "        0.86030049, -0.1039681 ,  0.0607583 ,  1.02360375,  0.42013666,\n",
       "        0.62210566,  0.64473916,  0.99664988,  0.67845215,  1.12735057,\n",
       "        0.82132193,  0.27603942, -0.07715547,  0.45485109,  0.70401935,\n",
       "        1.08374993, -0.00228073, -0.02283932,  0.37069209,  0.34360631,\n",
       "       -0.06763277,  0.09315976,  1.10498639,  0.00534452,  0.14244755,\n",
       "        1.05521006,  0.52089961,  0.09573903,  0.17279122, -0.07173843,\n",
       "        1.09291988, -0.0342771 ,  0.12612265,  0.42291626,  0.25514633,\n",
       "        0.09573503,  0.00294473,  0.35708481,  0.51175432,  0.82447047,\n",
       "        1.09158069,  0.0907341 ,  0.44617799,  0.98703226,  1.09184203,\n",
       "        0.31924034,  0.35198186,  0.9021319 , -0.04755887,  1.00611983,\n",
       "        0.13171674,  0.03180235, -0.0448512 ,  0.95883617,  0.16942577,\n",
       "        0.17559321, -0.0435217 ,  0.94752719, -0.093819  ,  1.06242062,\n",
       "       -0.093819  ,  0.14508679,  0.39988259,  0.08595886, -0.12448133,\n",
       "        0.26979667,  0.49848375,  0.42064913, -0.03841032,  0.73964551,\n",
       "        0.31076043, -0.00750045,  1.00021329,  1.06710723, -0.09317721,\n",
       "        0.44108614,  0.6606854 ,  0.35641513, -0.09494667,  0.74857346,\n",
       "        0.16781668,  0.87452103,  0.92028263,  0.95406835,  0.98731088,\n",
       "        0.70185321, -0.07749016,  0.9927832 ,  0.26677262,  0.20771251,\n",
       "       -0.0465281 ,  0.81834929,  1.09831643,  0.57439192,  1.02085449,\n",
       "        0.6475551 ,  0.50930674,  0.6917381 ,  0.22537228, -0.09603975,\n",
       "        0.52670732,  0.13161526,  0.74023799,  0.99958648,  0.90102324,\n",
       "        0.72585161, -0.00247318,  1.07101327,  0.01961514, -0.07372072,\n",
       "        0.54829604, -0.03035963,  1.05648781,  1.07573894, -0.08163201,\n",
       "        0.6673322 ,  0.33490803,  0.93121418, -0.04925748, -0.07330602,\n",
       "        0.30997504,  0.81545713, -0.03453726, -0.02671942,  0.35000795,\n",
       "        0.6990596 ,  0.14912641,  0.90648467, -0.00485468,  1.08845641,\n",
       "        0.06322262,  0.21534059,  0.06000925, -0.11900681, -0.10186751,\n",
       "       -0.04458357, -0.11211464,  0.84691589,  0.38204261,  0.00864914,\n",
       "        1.04218864,  0.27042997,  0.86172877, -0.09236007,  0.87350405,\n",
       "        0.05976416,  0.06439434,  0.69076069,  1.05806402, -0.04711982,\n",
       "        0.6132452 , -0.03854861,  0.89516616,  0.18434711, -0.09880578,\n",
       "       -0.13107753, -0.03376832,  0.94531785,  0.55681005,  0.4896128 ,\n",
       "        1.07389127,  0.99024092, -0.09369458, -0.07532806,  0.51827739,\n",
       "       -0.1240398 ,  0.98155458,  0.14145755,  0.5829908 ,  1.07543378,\n",
       "        0.10843299, -0.01991635,  0.64622681,  0.00205746,  0.50647821,\n",
       "        0.17746123,  0.61278603,  0.17194883,  1.08819791,  0.53390459,\n",
       "       -0.0851152 ,  0.35841157, -0.09719068,  0.96538873, -0.06910764,\n",
       "        0.40457687,  0.35332181,  0.38939383,  0.72929791, -0.02599226,\n",
       "        0.30618142,  0.68691156,  0.64666773,  0.87456785, -0.06609796,\n",
       "        1.06348652,  1.01261609,  1.03385613, -0.12196692,  0.06322262,\n",
       "        0.525304  ,  0.10557364,  0.949301  ,  1.01914457,  0.05099477,\n",
       "        1.05324443,  1.03799516,  1.12158089,  1.06183709,  0.1688195 ,\n",
       "        1.09487576,  0.37372647])"
      ]
     },
     "execution_count": 40,
     "metadata": {},
     "output_type": "execute_result"
    }
   ],
   "source": [
    "svm_model = SVR()\n",
    "svm_model.fit(X_train,Y_train)\n",
    "y_pred_svm=svm_model.predict(x_test)\n",
    "y_pred_svm"
   ]
  },
  {
   "cell_type": "code",
   "execution_count": 41,
   "metadata": {},
   "outputs": [
    {
     "name": "stdout",
     "output_type": "stream",
     "text": [
      "Mean Square Error from SVM is  0.08323394231983137\n",
      "Mean absolute error from SVM is 0.2034740251235668\n",
      "r2 score :  0.6630378508964437\n",
      "Root Mean Square Error is :  0.2885029329484041\n"
     ]
    }
   ],
   "source": [
    "mse_svm=mean_squared_error(y_pred_svm,y_test)\n",
    "print(\"Mean Square Error from SVM is \",mse_svm)\n",
    "mae_svm = mean_absolute_error(y_pred_svm,y_test)\n",
    "print(\"Mean absolute error from SVM is\",mae_svm)\n",
    "r2_svm = r2_score(y_test,y_pred_svm)\n",
    "print(\"r2 score : \",r2_svm)\n",
    "rmse_svm = sqrt(mse_svm)\n",
    "print(\"Root Mean Square Error is : \",rmse_svm)"
   ]
  },
  {
   "cell_type": "code",
   "execution_count": 42,
   "metadata": {},
   "outputs": [
    {
     "data": {
      "image/png": "[encoded data removed]",
      "text/plain": [
       "<Figure size 432x288 with 1 Axes>"
      ]
     },
     "metadata": {
      "needs_background": "light"
     },
     "output_type": "display_data"
    }
   ],
   "source": [
    "plt.plot(y_pred_svm,label=\"predictions\",color=\"green\")\n",
    "plt.ylabel(\"predicted tips\")\n",
    "plt.show()"
   ]
  },
  {
   "attachments": {},
   "cell_type": "markdown",
   "metadata": {},
   "source": [
    "# knn"
   ]
  },
  {
   "cell_type": "code",
   "execution_count": 43,
   "metadata": {},
   "outputs": [],
   "source": [
    "from sklearn.neighbors import KNeighborsRegressor\n",
    "from sklearn.model_selection import GridSearchCV"
   ]
  },
  {
   "cell_type": "code",
   "execution_count": 44,
   "metadata": {},
   "outputs": [
    {
     "name": "stdout",
     "output_type": "stream",
     "text": [
      "[0.45883146774112354, 0.3710145844334804, 0.3353515152439724, 0.3248325635338671, 0.3111946420861996, 0.31654767279163115, 0.3191795232169219, 0.31161311396268654, 0.31059014282026726]\n"
     ]
    }
   ],
   "source": [
    "rmse_val = [] #to store rmse values for different k\n",
    "kn = 10\n",
    "nums=[]\n",
    "for i in range(1,10):\n",
    "    nums.append(i)    \n",
    "for K in nums:\n",
    "    model = KNeighborsRegressor(n_neighbors = K)\n",
    "    model.fit(X_train, Y_train)  #fit the model\n",
    "    pred=model.predict(x_test) #make prediction on test set\n",
    "    error = sqrt(mean_squared_error(y_test,pred)) #calculate rmse\n",
    "    rmse_val.append(error) #store rmse values\n",
    "print(rmse_val)"
   ]
  },
  {
   "cell_type": "code",
   "execution_count": 45,
   "metadata": {},
   "outputs": [
    {
     "data": {
      "image/png": "[encoded data removed]",
      "text/plain": [
       "<Figure size 432x288 with 1 Axes>"
      ]
     },
     "metadata": {
      "needs_background": "light"
     },
     "output_type": "display_data"
    }
   ],
   "source": [
    "plt.plot(range(1,kn),rmse_val,color=\"violet\")\n",
    "plt.legend(['RMSE values'])\n",
    "plt.ylabel('Error of each k number')\n",
    "plt.xlabel('Number of Neighbors (K)')\n",
    "plt.tight_layout()\n",
    "plt.show()"
   ]
  },
  {
   "cell_type": "code",
   "execution_count": 46,
   "metadata": {},
   "outputs": [
    {
     "data": {
      "text/plain": [
       "{'n_neighbors': 9}"
      ]
     },
     "execution_count": 46,
     "metadata": {},
     "output_type": "execute_result"
    }
   ],
   "source": [
    "params = {'n_neighbors':[2,3,4,5,6,7,8,9]}\n",
    "grid_search = GridSearchCV(KNeighborsRegressor(),params,cv=5)\n",
    "grid_search.fit(X_train,Y_train)\n",
    "grid_search.best_params_"
   ]
  },
  {
   "cell_type": "code",
   "execution_count": 47,
   "metadata": {},
   "outputs": [
    {
     "data": {
      "text/plain": [
       "KNeighborsRegressor()"
      ]
     },
     "execution_count": 47,
     "metadata": {},
     "output_type": "execute_result"
    }
   ],
   "source": [
    "max_k_neighbor = 4\n",
    "\n",
    "neigh = KNeighborsRegressor(max_k_neighbor+1)\n",
    "neigh.fit(X_train,Y_train)\n",
    "neigh"
   ]
  },
  {
   "attachments": {},
   "cell_type": "markdown",
   "metadata": {},
   "source": [
    "# RFR"
   ]
  },
  {
   "cell_type": "code",
   "execution_count": 48,
   "metadata": {},
   "outputs": [
    {
     "data": {
      "text/plain": [
       "array([0.        , 0.05      , 1.        , 0.43      , 0.25      ,\n",
       "       0.6       , 1.        , 0.06      , 0.97      , 0.        ,\n",
       "       0.04      , 1.        , 0.95      , 0.92      , 0.45      ,\n",
       "       1.        , 0.88      , 0.02      , 1.        , 0.        ,\n",
       "       1.        , 0.02      , 0.78      , 0.29      , 0.01      ,\n",
       "       0.        , 0.29      , 0.61      , 0.77      , 0.02      ,\n",
       "       0.36      , 0.        , 0.41      , 1.        , 0.        ,\n",
       "       0.95      , 0.        , 0.29      , 0.87      , 0.33      ,\n",
       "       0.95      , 0.43      , 1.        , 0.56      , 1.        ,\n",
       "       0.77      , 0.09      , 0.2       , 0.71      , 0.85      ,\n",
       "       1.        , 0.        , 0.17      , 0.0275    , 0.73      ,\n",
       "       0.        , 0.06      , 1.        , 0.04      , 0.17      ,\n",
       "       0.99      , 0.66      , 0.01      , 0.33      , 0.        ,\n",
       "       1.        , 0.09      , 0.        , 0.19      , 0.1       ,\n",
       "       0.25      , 0.01      , 0.57      , 0.49      , 0.52      ,\n",
       "       1.        , 0.46      , 0.61      , 0.59      , 1.        ,\n",
       "       0.15      , 0.56      , 1.        , 0.        , 1.        ,\n",
       "       0.01      , 0.        , 0.17      , 0.93      , 0.13      ,\n",
       "       0.14      , 0.        , 1.        , 0.4       , 1.        ,\n",
       "       0.4       , 0.07      , 0.28      , 0.03      , 0.        ,\n",
       "       0.16      , 0.78      , 0.17828571, 0.58      , 0.44      ,\n",
       "       0.25      , 0.        , 1.        , 1.        , 0.        ,\n",
       "       0.57      , 0.52      , 0.02      , 0.02      , 0.84      ,\n",
       "       0.05      , 0.94      , 0.93      , 1.        , 1.        ,\n",
       "       0.77      , 0.        , 0.99      , 0.36      , 0.21      ,\n",
       "       0.        , 0.86      , 1.        , 0.5       , 1.        ,\n",
       "       0.54      , 0.16      , 0.78      , 0.6       , 0.11      ,\n",
       "       0.73      , 0.11      , 0.62      , 1.        , 1.        ,\n",
       "       0.29      , 0.05      , 1.        , 0.24      , 0.01      ,\n",
       "       0.68      , 0.02      , 1.        , 1.        , 0.        ,\n",
       "       0.85      , 0.25      , 0.94      , 0.2       , 0.01      ,\n",
       "       0.01      , 0.63      , 0.12      , 0.3       , 0.25      ,\n",
       "       0.8       , 0.        , 0.71      , 0.        , 1.        ,\n",
       "       0.        , 0.43      , 0.        , 0.        , 0.        ,\n",
       "       0.09      , 0.11      , 0.99      , 0.05      , 0.16      ,\n",
       "       1.        , 0.62      , 0.86      , 0.        , 0.86      ,\n",
       "       0.        , 0.11      , 0.45      , 1.        , 0.09      ,\n",
       "       0.95      , 0.07      , 1.        , 0.21      , 0.15      ,\n",
       "       0.        , 0.06      , 0.99      , 0.73      , 0.11      ,\n",
       "       0.46      , 1.        , 0.03      , 0.        , 0.75      ,\n",
       "       0.        , 0.96      , 0.        , 0.4       , 1.        ,\n",
       "       0.02      , 0.        , 0.39      , 0.08      , 0.54      ,\n",
       "       0.02      , 0.92      , 0.05      , 1.        , 0.4       ,\n",
       "       0.13      , 0.08      , 0.01      , 1.        , 0.        ,\n",
       "       0.834     , 0.18      , 0.29      , 0.93      , 0.01      ,\n",
       "       0.41      , 0.76      , 0.71      , 0.99      , 0.46      ,\n",
       "       0.97      , 0.99      , 1.        , 0.12      , 0.        ,\n",
       "       0.65      , 0.56      , 0.97      , 1.        , 0.2       ,\n",
       "       1.        , 0.82      , 1.        , 0.96      , 0.26      ,\n",
       "       1.        , 0.25      ])"
      ]
     },
     "execution_count": 48,
     "metadata": {},
     "output_type": "execute_result"
    }
   ],
   "source": [
    "from sklearn.ensemble import RandomForestRegressor\n",
    "RFR_model= RandomForestRegressor()\n",
    "RFR_model.fit(X_train, Y_train)\n",
    "y_pred_RFR= RFR_model.predict(x_test)\n",
    "y_pred_RFR"
   ]
  },
  {
   "cell_type": "code",
   "execution_count": 49,
   "metadata": {},
   "outputs": [
    {
     "name": "stdout",
     "output_type": "stream",
     "text": [
      "Mean Square Error from RFR is  0.11706569480707263\n",
      "Mean absolute error from RFR is 0.21056766917293232\n",
      "r2 score :  0.5260742551768617\n",
      "Root Mean Square Error is :  0.3421486443157018\n"
     ]
    }
   ],
   "source": [
    "mse_RFR=mean_squared_error(y_pred_RFR,y_test)\n",
    "print(\"Mean Square Error from RFR is \",mse_RFR)\n",
    "mae_RFR = mean_absolute_error(y_pred_RFR,y_test)\n",
    "print(\"Mean absolute error from RFR is\",mae_RFR)\n",
    "r2_RFR = r2_score(y_test,y_pred_RFR)\n",
    "print(\"r2 score : \",r2_RFR)\n",
    "rmse_RFR = sqrt(mse_RFR)\n",
    "print(\"Root Mean Square Error is : \",rmse_RFR)"
   ]
  },
  {
   "cell_type": "code",
   "execution_count": 50,
   "metadata": {},
   "outputs": [
    {
     "data": {
      "image/png": "[encoded data removed]",
      "text/plain": [
       "<Figure size 432x288 with 1 Axes>"
      ]
     },
     "metadata": {
      "needs_background": "light"
     },
     "output_type": "display_data"
    }
   ],
   "source": [
    "plt.plot(y_pred_RFR,label=\"predictions\",color=\"black\")\n",
    "plt.show()"
   ]
  },
  {
   "attachments": {},
   "cell_type": "markdown",
   "metadata": {},
   "source": [
    "# Comparing Models"
   ]
  },
  {
   "cell_type": "code",
   "execution_count": 51,
   "metadata": {},
   "outputs": [
    {
     "data": {
      "text/html": [
       "<div>\n",
       "<style scoped>\n",
       "    .dataframe tbody tr th:only-of-type {\n",
       "        vertical-align: middle;\n",
       "    }\n",
       "\n",
       "    .dataframe tbody tr th {\n",
       "        vertical-align: top;\n",
       "    }\n",
       "\n",
       "    .dataframe thead th {\n",
       "        text-align: right;\n",
       "    }\n",
       "</style>\n",
       "<table border=\"1\" class=\"dataframe\">\n",
       "  <thead>\n",
       "    <tr style=\"text-align: right;\">\n",
       "      <th></th>\n",
       "      <th>Model</th>\n",
       "      <th>RMSE</th>\n",
       "      <th>MSE</th>\n",
       "      <th>MAE</th>\n",
       "      <th>r2 score</th>\n",
       "    </tr>\n",
       "  </thead>\n",
       "  <tbody>\n",
       "    <tr>\n",
       "      <th>0</th>\n",
       "      <td>Linear Regression</td>\n",
       "      <td>0.385662</td>\n",
       "      <td>0.148736</td>\n",
       "      <td>0.355591</td>\n",
       "      <td>0.397863</td>\n",
       "    </tr>\n",
       "    <tr>\n",
       "      <th>1</th>\n",
       "      <td>SVM</td>\n",
       "      <td>0.288503</td>\n",
       "      <td>0.083234</td>\n",
       "      <td>0.203474</td>\n",
       "      <td>0.663038</td>\n",
       "    </tr>\n",
       "    <tr>\n",
       "      <th>2</th>\n",
       "      <td>Random Forest Regressor</td>\n",
       "      <td>0.342149</td>\n",
       "      <td>0.117066</td>\n",
       "      <td>0.117066</td>\n",
       "      <td>0.526074</td>\n",
       "    </tr>\n",
       "  </tbody>\n",
       "</table>\n",
       "</div>"
      ],
      "text/plain": [
       "                     Model      RMSE       MSE       MAE  r2 score\n",
       "0        Linear Regression  0.385662  0.148736  0.355591  0.397863\n",
       "1                      SVM  0.288503  0.083234  0.203474  0.663038\n",
       "2  Random Forest Regressor  0.342149  0.117066  0.117066  0.526074"
      ]
     },
     "execution_count": 51,
     "metadata": {},
     "output_type": "execute_result"
    }
   ],
   "source": [
    "data={\n",
    "    \"Model\":[\"Linear Regression\",\"SVM\",\"Random Forest Regressor\"],\n",
    "    \"RMSE\":[rmse_lr,rmse_svm,rmse_RFR],\n",
    "    \"MSE\":[mse_lr,mse_svm,mse_RFR],\n",
    "    \"MAE\":[mae_lr,mae_svm,mse_RFR],\n",
    "    \"r2 score\":[r2_lr,r2_svm,r2_RFR]\n",
    "}\n",
    "error_df = pd.DataFrame(data)\n",
    "error_df"
   ]
  },
  {
   "cell_type": "code",
   "execution_count": 52,
   "metadata": {},
   "outputs": [
    {
     "data": {
      "image/png": "[encoded data removed]",
      "text/plain": [
       "<Figure size 360x360 with 1 Axes>"
      ]
     },
     "metadata": {
      "needs_background": "light"
     },
     "output_type": "display_data"
    }
   ],
   "source": [
    "sb.catplot(data=error_df,kind=\"swarm\")\n",
    "plt.xlabel(\"Errors\")\n",
    "plt.ylabel(\"Value\")\n",
    "plt.show()"
   ]
  },
  {
   "cell_type": "code",
   "execution_count": 53,
   "metadata": {},
   "outputs": [
    {
     "data": {
      "text/plain": [
       "{'KNN': 0.6079469143994691,\n",
       " 'SVM': 0.6630378508964437,\n",
       " 'Linear Regression': 0.3978628245360999,\n",
       " 'Random Forest Regressor': 0.5260742551768617}"
      ]
     },
     "execution_count": 53,
     "metadata": {},
     "output_type": "execute_result"
    }
   ],
   "source": [
    "model_scores={\"KNN\":neigh.score(x_test,y_test),\"SVM\":svm_model.score(x_test,y_test),\"Linear Regression\":lr_model.score(x_test,y_test),\"Random Forest Regressor\":RFR_model.score(x_test,y_test)}\n",
    "model_scores"
   ]
  },
  {
   "cell_type": "code",
   "execution_count": 54,
   "metadata": {},
   "outputs": [
    {
     "data": {
      "image/png": "[encoded data removed]",
      "text/plain": [
       "<Figure size 1080x360 with 1 Axes>"
      ]
     },
     "metadata": {
      "needs_background": "light"
     },
     "output_type": "display_data"
    }
   ],
   "source": [
    "plt.figure(figsize=(15,5))\n",
    "plt.bar(*zip(*model_scores.items()),color=[\"orange\",\"grey\",\"green\",\"red\"])\n",
    "plt.xlabel(\"Models\")\n",
    "plt.ylabel(\"accuracy\")\n",
    "plt.show()"
   ]
  },
  {
   "cell_type": "code",
   "execution_count": 55,
   "metadata": {},
   "outputs": [
    {
     "name": "stdout",
     "output_type": "stream",
     "text": [
      "LogisticRegression() : \n",
      "Training Accuracy :  0.935580169813795\n",
      "Validation Accuracy :  0.9078256302521008\n",
      "SVC(kernel='poly', probability=True) : \n",
      "Training Accuracy :  0.9338222036454236\n",
      "Validation Accuracy :  0.8999474789915967\n",
      "XGBClassifier(base_score=None, booster=None, callbacks=None,\n",
      "              colsample_bylevel=None, colsample_bynode=None,\n",
      "              colsample_bytree=None, early_stopping_rounds=None,\n",
      "              enable_categorical=False, eval_metric=None, feature_types=None,\n",
      "              gamma=None, gpu_id=None, grow_policy=None, importance_type=None,\n",
      "              interaction_constraints=None, learning_rate=None, max_bin=None,\n",
      "              max_cat_threshold=None, max_cat_to_onehot=None,\n",
      "              max_delta_step=None, max_depth=None, max_leaves=None,\n",
      "              min_child_weight=None, missing=nan, monotone_constraints=None,\n",
      "              n_estimators=100, n_jobs=None, num_parallel_tree=None,\n",
      "              predictor=None, random_state=None, ...) : \n",
      "Training Accuracy :  0.9983875065565172\n",
      "Validation Accuracy :  0.9939600840336135\n",
      "\n"
     ]
    }
   ],
   "source": [
    "models = [LogisticRegression(), SVC(kernel='poly', probability=True), XGBClassifier()]\n",
    "\n",
    "for i in range(3):\n",
    "    models[i].fit(X_train, Y_train)\n",
    "\n",
    "    print(f'{models[i]} : ')\n",
    "    print('Training Accuracy : ', metrics.roc_auc_score(Y_train, models[i].predict_proba(X_train)[:,1]))\n",
    "    print('Validation Accuracy : ', metrics.roc_auc_score(Y_valid, models[i].predict_proba(X_valid)[:,1]))\n",
    "print()"
   ]
  },
  {
   "cell_type": "code",
   "execution_count": 56,
   "metadata": {},
   "outputs": [
    {
     "name": "stderr",
     "output_type": "stream",
     "text": [
      "C:\\Users\\laxmi\\anaconda3\\lib\\site-packages\\sklearn\\utils\\deprecation.py:87: FutureWarning: Function plot_confusion_matrix is deprecated; Function `plot_confusion_matrix` is deprecated in 1.0 and will be removed in 1.2. Use one of the class methods: ConfusionMatrixDisplay.from_predictions or ConfusionMatrixDisplay.from_estimator.\n",
      "  warnings.warn(msg, category=FutureWarning)\n"
     ]
    },
    {
     "data": {
      "image/png": "[encoded data removed]",
      "text/plain": [
       "<Figure size 432x288 with 2 Axes>"
      ]
     },
     "metadata": {
      "needs_background": "light"
     },
     "output_type": "display_data"
    }
   ],
   "source": [
    "metrics.plot_confusion_matrix(models[0], X_valid, Y_valid)\n",
    "plt.show()\n"
   ]
  },
  {
   "attachments": {},
   "cell_type": "markdown",
   "metadata": {},
   "source": [
    "# Backend for LSTM model\n"
   ]
  },
  {
   "cell_type": "code",
   "execution_count": null,
   "metadata": {},
   "outputs": [],
   "source": [
    "#pandas used to load dataset and analyse\n",
    "#numpy for mathematical techniques\n",
    "import pandas as pd\n",
    "import numpy as np\n",
    "\n",
    "#matplotlib for plotting graphs\n",
    "import matplotlib.pyplot as plt\n",
    " \n",
    "from matplotlib.pylab import rcParams\n",
    "rcParams['figure.figsize']=20,10\n",
    "\n",
    "#we have to scale the values then give to algo using minmaxscaler\n",
    "from sklearn.preprocessing import MinMaxScaler\n",
    "scaler=MinMaxScaler(feature_range=(0,1))\n",
    "\n",
    "df=pd.read_csv(\"NSE-Tata-Global-Beverages-Limited.csv\")\n",
    "df.head()\n",
    "\n",
    "#conversion of date format\n",
    "df[\"Date\"]=pd.to_datetime(df.Date,format=\"%Y-%m-%d\")\n",
    "df.index=df['Date']\n",
    "\n",
    "#fixing height and width of graph for close column\n",
    "plt.figure(figsize=(16,8))\n",
    "plt.plot(df[\"Close\"],label='Close Price history')\n",
    "\n",
    "\n",
    "\n",
    "#long short term memory recural neural network has ability to remember previous thing\n",
    "#droupout used to solve overfitting problem\n",
    "from keras.models import Sequential\n",
    "from keras.layers import LSTM,Dropout,Dense\n",
    "\n",
    "#sorting the index column i.e. date column\n",
    "data=df.sort_index(ascending=True,axis=0)\n",
    "#creating new df\n",
    "new_dataset=pd.DataFrame(index=range(0,len(df)),columns=['Date','Close'])\n",
    "\n",
    "#transfering date and close data into new df\n",
    "for i in range(0,len(data)):\n",
    "    new_dataset[\"Date\"][i]=data['Date'][i]\n",
    "    new_dataset[\"Close\"][i]=data[\"Close\"][i]\n",
    "    \n",
    "\n",
    "#setting index col as date col                                                  \n",
    "# new_dataset.index=new_dataset.Date\n",
    "#dropping date col \n",
    "new_dataset.index=new_dataset.Date\n",
    "new_dataset.drop(\"Date\",axis=1,inplace=True)\n",
    "\n",
    "final_dataset=new_dataset.values\n",
    "\n",
    "train_data=final_dataset[0:987,:]\n",
    "valid_data=final_dataset[987:,:]\n",
    "\n",
    "scaler=MinMaxScaler(feature_range=(0,1))\n",
    "scaled_data=scaler.fit_transform(final_dataset)\n",
    "\n",
    "x_train_data,y_train_data=[],[]\n",
    "\n",
    "for i in range(60,len(train_data)):\n",
    "    x_train_data.append(scaled_data[i-60:i,0])\n",
    "    y_train_data.append(scaled_data[i,0])\n",
    "    \n",
    "x_train_data,y_train_data=np.array(x_train_data),np.array(y_train_data)\n",
    "\n",
    "x_train_data=np.reshape(x_train_data,(x_train_data.shape[0],x_train_data.shape[1],1))\n",
    "\n",
    "lstm_model=Sequential()\n",
    "lstm_model.add(LSTM(units=50,return_sequences=True,input_shape=(x_train_data.shape[1],1)))\n",
    "lstm_model.add(LSTM(units=50))\n",
    "lstm_model.add(Dense(1))\n",
    "\n",
    "\n",
    "\n",
    "\n",
    "lstm_model.compile(loss='mean_squared_error',optimizer='adam')\n",
    "lstm_model.fit(x_train_data,y_train_data,epochs=1,batch_size=1,verbose=2)\n",
    "\n",
    "inputs_data=new_dataset[len(new_dataset)-len(valid_data)-60:].values\n",
    "inputs_data=inputs_data.reshape(-1,1)\n",
    "inputs_data=scaler.transform(inputs_data)\n",
    "\n",
    "\n",
    "X_test=[]\n",
    "for i in range(60,inputs_data.shape[0]):\n",
    "    X_test.append(inputs_data[i-60:i,0])\n",
    "X_test=np.array(X_test)\n",
    "\n",
    "X_test=np.reshape(X_test,(X_test.shape[0],X_test.shape[1],1))\n",
    "predicted_closing_price=lstm_model.predict(X_test)\n",
    "predicted_closing_price=scaler.inverse_transform(predicted_closing_price)\n",
    "\n",
    "lstm_model.save(\"saved_lstm_model.h5\")\n",
    " \n",
    "print(\"model saved\")\n"
   ]
  },
  {
   "attachments": {},
   "cell_type": "markdown",
   "metadata": {},
   "source": [
    "# Frontend for LSTM model\n"
   ]
  },
  {
   "cell_type": "code",
   "execution_count": null,
   "metadata": {},
   "outputs": [],
   "source": [
    "import numpy as np\n",
    "import pandas as pd\n",
    "#for storing and getting data from database\n",
    "import pymysql\n",
    "pymysql.install_as_MySQLdb()\n",
    "import MySQLdb\n",
    "import warnings\n",
    "warnings.filterwarnings(\"ignore\")\n",
    "username_list=[]\n",
    "password_list=[]\n",
    "username_list1=[]\n",
    "password_list1=[]\n",
    "import tensorflow as tf\n",
    "#load .h file\n",
    "from keras.models import Sequential\n",
    "from keras.models import load_model\n",
    "from sklearn.preprocessing import MinMaxScaler\n",
    "from flask import Flask,request,jsonify,render_template\n",
    "#flask is a python web framer\n",
    "model=load_model(\"saved_lstm_model.h5\")\n",
    "data_user=pd.read_csv(\"NSE-Tata-Global-Beverages-Limited.csv\")\n",
    "updated_date=[]\n",
    "updated_close=[]\n",
    " #initializing flask\n",
    "app=Flask(__name__)\n",
    "@app.route('/')\n",
    "def home():\n",
    "    return render_template('register.html')\n",
    "@app.route('/register',methods=['POST','GET'])\n",
    "#collecting data in register method\n",
    "def register():\n",
    "    int_features2=[str(x) for x in request.form.values()]\n",
    "    r1=int_features2[0]\n",
    "    print(r1)\n",
    "    r2=int_features2[1]\n",
    "    print(r2)\n",
    "    username=int_features2[0]\n",
    "    passw1=int_features2[1]\n",
    "    import MySQLdb\n",
    "    conn = MySQLdb.connect(db='base', user='root', passwd='pwd', host='localhost')\n",
    "\n",
    "    cursor=db.cursor()\n",
    "    cursor.execute(\"SELECT user FROM user_register\")\n",
    "    result1=cursor.fetchall()\n",
    "    for row1 in result1:\n",
    "        print(row1)\n",
    "        print(row1[0])\n",
    "        username_list1.append(str(row1[0]))\n",
    "    print(username_list1)\n",
    "    if username in username_list1:\n",
    "        return render_template('register.html',text='This username is already in use')\n",
    "    else:\n",
    "        sql=\"INSERT INTO user_register(user,passsword) values (%s,%s)\"\n",
    "        val=(r1,r2)\n",
    "\n",
    "        try:\n",
    "            cursor.execute(sql,val)\n",
    "            db.commit()\n",
    "        except:\n",
    "            db.rollback()\n",
    "        db.close()\n",
    "        return render_template('register,html',text=\"SUCCESSFULLY REGISTERED\")   \n",
    "@app.route('/login')\n",
    "def login():\n",
    "    return render_template('login.html')\n",
    "@app.route('/logedin',methods=['POST','GET'])\n",
    "def logedin():\n",
    "    int_features3=[str(x) for x in request.form.values()]\n",
    "    print(int_features3)\n",
    "    logu=int_features3[0]\n",
    "    passw=int_features3[1]\n",
    "    import MySQLdb\n",
    "\n",
    "    db=MySQLdb.connect('localhost',\"root\",\"\",\"ddbb\")\n",
    "\n",
    "    cursor=db.cursor()\n",
    "    cursor.execute(\"SELECT user from user_register\")\n",
    "    result1=cursor.fetchall()\n",
    "    for row2 in result1:\n",
    "        print(row2)\n",
    "        print(row2[0])\n",
    "        username_list.append(str(row2[0]))\n",
    "    print(username_list)\n",
    "    cursor1=db.cursor()\n",
    "    cursor1.execute(\"SELECT user from user_register\")\n",
    "    result2=cursor1.fetchall()\n",
    "    for row3 in result2:\n",
    "        print(row3)\n",
    "        print(row3[0])\n",
    "        username_list.append(str(row3[0]))\n",
    "    print(username_list)\n",
    "    print(username_list.index(logu))\n",
    "    print(username_list,index(passw))   \n",
    "    if username_list.index(logu)==password_list.index(passw):\n",
    "        return render_template('index1.html')\n",
    "    else:\n",
    "        return render_template('login.html',text='use proper username and passwored')\n",
    "@app.route('/production')\n",
    "def production():\n",
    "    return render_template('index.html')\n",
    "@app.route('/production/predict',methods=['POST','GET'] )\n",
    "def predict():   \n",
    "    #for rendering results on html gui     \n",
    "    int_features=[str(x) for x in request.form.values()]\n",
    "    a=int_features\n",
    "    print(str(a[0]))\n",
    "    date_required=str(a[0])\n",
    "    print(data_user)\n",
    "    updated_date.append(date_required)\n",
    "    print(date_required)\n",
    "    print(updated_date)\n",
    "    value=data_user.loc[data_user['Date']==date_required,'Close'].iloc[0]\n",
    "    row_index=data_user[data_user['Date']==date_required].index[0]\n",
    "    print(\"value,row index values of that particular location\",value,row_index)\n",
    "    close_value_list=list(data_user['Close'])\n",
    "    print(close_values_list[row_index-121:row_index])        \n",
    "    new_user_input=close_values_list[row_index-121:row_index]\n",
    "    print(len(new_user_input))\n",
    "    user_df=pd.DataFrame(np.array([new_user_input]).T)\n",
    "    user_df.columns=['close']\n",
    "    user_df\n",
    "    dataset2=user_df.values\n",
    "    dataset2\n",
    "    scaler=MinMaxScaler(feature_range=(0,1))\n",
    "    scaled_data=scaler_fit_transform(dataset2)\n",
    "    inputs=user_df.values\n",
    "    inputs=inputs.reshape(-1,1)\n",
    "    inputs=scaler.transform(inputs)\n",
    "    print(inputs)\n",
    "    print(len(inputs))\n",
    "    X_test=[]\n",
    "    print(inputs.shape[0])\n",
    "    for i in range(120,inputs.shape[0]):\n",
    "        X_test.append(inputs[0:i,0])\n",
    "    X_test=np.array(X_test)\n",
    "    print(X_test)\n",
    "    X_test=np.reshape(X_test,(X_test.shape[0],X_test.shape[1],1))\n",
    "    with graph.as_default():\n",
    "        closing_price=model.predict(X_test)\n",
    "    closing_price=scaler.inverse_transform(closing_price) \n",
    "    print(\"The predicted result is\",closing_price[0][0])       \n",
    "    del X_test\n",
    "    del inputs\n",
    "    del value,row_index\n",
    "    output=closing_price[0][0]\n",
    "    data_user.loc[data_user['Date']==date_required,'Close']=output\n",
    "    print(data_user)\n",
    "    print(\"updates the close value\",data_user.loc[data_user['Date']==date_required,'Close'].iloc[0])\n",
    "    return render_template('index1.html',prediction_text='the closing value on () qill be ()'.format(date_required,output))\n",
    "if __name__=='__main__':\n",
    "    app.run(debug=True)\n",
    "    app.run()"
   ]
  },
  {
   "cell_type": "code",
   "execution_count": null,
   "metadata": {},
   "outputs": [],
   "source": []
  }
 ],
 "metadata": {
  "kernelspec": {
   "display_name": "Python 3 (ipykernel)",
   "language": "python",
   "name": "python3"
  },
  "language_info": {
   "codemirror_mode": {
    "name": "ipython",
    "version": 3
   },
   "file_extension": ".py",
   "mimetype": "text/x-python",
   "name": "python",
   "nbconvert_exporter": "python",
   "pygments_lexer": "ipython3",
   "version": "3.11.1"
  },
  "vscode": {
   "interpreter": {
    "hash": "8003a09d6fecce4d2232d757f347752a9b91bd15cca7e3c13e43a1f42bd338fc"
   }
  }
 },
 "nbformat": 4,
 "nbformat_minor": 2
}
